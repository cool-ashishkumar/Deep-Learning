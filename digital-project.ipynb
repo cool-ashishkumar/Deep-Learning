{
 "cells": [
  {
   "cell_type": "code",
   "execution_count": null,
   "id": "f7b27737",
   "metadata": {
    "_cell_guid": "b1076dfc-b9ad-4769-8c92-a6c4dae69d19",
    "_uuid": "8f2839f25d086af736a60e9eeb907d3b93b6e0e5",
    "papermill": {
     "duration": 0.007131,
     "end_time": "2023-12-30T23:52:18.926324",
     "exception": false,
     "start_time": "2023-12-30T23:52:18.919193",
     "status": "completed"
    },
    "tags": []
   },
   "outputs": [],
   "source": []
  },
  {
   "cell_type": "code",
   "execution_count": 1,
   "id": "0b07cfa1",
   "metadata": {
    "execution": {
     "iopub.execute_input": "2023-12-30T23:52:18.941364Z",
     "iopub.status.busy": "2023-12-30T23:52:18.941010Z",
     "iopub.status.idle": "2023-12-30T23:52:32.380339Z",
     "shell.execute_reply": "2023-12-30T23:52:32.379293Z"
    },
    "papermill": {
     "duration": 13.450314,
     "end_time": "2023-12-30T23:52:32.383235",
     "exception": false,
     "start_time": "2023-12-30T23:52:18.932921",
     "status": "completed"
    },
    "tags": []
   },
   "outputs": [],
   "source": [
    " # Import libraries:\n",
    "\n",
    "import numpy as np\n",
    "import pandas as pd\n",
    "import os\n",
    "import random\n",
    "import shutil\n",
    "import glob\n",
    "from sklearn.utils import shuffle\n",
    "\n",
    "# for image:\n",
    "import seaborn as sns\n",
    "import matplotlib.pyplot as plt\n",
    "%matplotlib inline\n",
    "import matplotlib.image as mpimg\n",
    "\n",
    "\n",
    "from sklearn.preprocessing import LabelEncoder\n",
    "from sklearn.preprocessing import OneHotEncoder\n",
    "\n",
    "# for model:\n",
    "import tensorflow as tf\n",
    "from tensorflow import keras\n",
    "from tensorflow.keras.models import Sequential\n",
    "from tensorflow.keras.layers import Dense, Flatten, Activation, Dropout, BatchNormalization, LeakyReLU\n",
    "from tensorflow.keras.layers import Conv2D, AveragePooling2D, MaxPooling2D\n",
    "from tensorflow.keras.optimizers import Adam\n",
    "from tensorflow.keras.preprocessing.image import ImageDataGenerator"
   ]
  },
  {
   "cell_type": "code",
   "execution_count": 2,
   "id": "a2115932",
   "metadata": {
    "execution": {
     "iopub.execute_input": "2023-12-30T23:52:32.398342Z",
     "iopub.status.busy": "2023-12-30T23:52:32.397671Z",
     "iopub.status.idle": "2023-12-30T23:52:32.404096Z",
     "shell.execute_reply": "2023-12-30T23:52:32.403340Z"
    },
    "papermill": {
     "duration": 0.016464,
     "end_time": "2023-12-30T23:52:32.406237",
     "exception": false,
     "start_time": "2023-12-30T23:52:32.389773",
     "status": "completed"
    },
    "tags": []
   },
   "outputs": [
    {
     "data": {
      "text/plain": [
       "'2.13.0'"
      ]
     },
     "execution_count": 2,
     "metadata": {},
     "output_type": "execute_result"
    }
   ],
   "source": [
    "tf.__version__\n"
   ]
  },
  {
   "cell_type": "code",
   "execution_count": 3,
   "id": "3af6c402",
   "metadata": {
    "execution": {
     "iopub.execute_input": "2023-12-30T23:52:32.421404Z",
     "iopub.status.busy": "2023-12-30T23:52:32.420848Z",
     "iopub.status.idle": "2023-12-30T23:52:32.425671Z",
     "shell.execute_reply": "2023-12-30T23:52:32.424797Z"
    },
    "papermill": {
     "duration": 0.014971,
     "end_time": "2023-12-30T23:52:32.427733",
     "exception": false,
     "start_time": "2023-12-30T23:52:32.412762",
     "status": "completed"
    },
    "tags": []
   },
   "outputs": [
    {
     "name": "stdout",
     "output_type": "stream",
     "text": [
      "['happy-whale-and-dolphin']\n"
     ]
    }
   ],
   "source": [
    "print(os.listdir('../input'))\n"
   ]
  },
  {
   "cell_type": "code",
   "execution_count": 4,
   "id": "cc5fc36c",
   "metadata": {
    "execution": {
     "iopub.execute_input": "2023-12-30T23:52:32.442416Z",
     "iopub.status.busy": "2023-12-30T23:52:32.442037Z",
     "iopub.status.idle": "2023-12-30T23:52:32.446385Z",
     "shell.execute_reply": "2023-12-30T23:52:32.445446Z"
    },
    "papermill": {
     "duration": 0.014133,
     "end_time": "2023-12-30T23:52:32.448402",
     "exception": false,
     "start_time": "2023-12-30T23:52:32.434269",
     "status": "completed"
    },
    "tags": []
   },
   "outputs": [],
   "source": [
    "# Set paths:\n",
    "\n",
    "train = '../input/happy-whale-and-dolphin/train_images'\n",
    "test = '../input/happy-whale-and-dolphin/test_images'"
   ]
  },
  {
   "cell_type": "code",
   "execution_count": 5,
   "id": "e14c0eee",
   "metadata": {
    "execution": {
     "iopub.execute_input": "2023-12-30T23:52:32.463099Z",
     "iopub.status.busy": "2023-12-30T23:52:32.462703Z",
     "iopub.status.idle": "2023-12-30T23:52:32.470340Z",
     "shell.execute_reply": "2023-12-30T23:52:32.469305Z"
    },
    "papermill": {
     "duration": 0.017523,
     "end_time": "2023-12-30T23:52:32.472455",
     "exception": false,
     "start_time": "2023-12-30T23:52:32.454932",
     "status": "completed"
    },
    "tags": []
   },
   "outputs": [
    {
     "name": "stdout",
     "output_type": "stream",
     "text": [
      "['sample_submission.csv', 'train_images', 'train.csv', 'test_images']\n"
     ]
    }
   ],
   "source": [
    "print(os.listdir('../input/happy-whale-and-dolphin'))\n"
   ]
  },
  {
   "cell_type": "code",
   "execution_count": 6,
   "id": "e18035ac",
   "metadata": {
    "execution": {
     "iopub.execute_input": "2023-12-30T23:52:32.488612Z",
     "iopub.status.busy": "2023-12-30T23:52:32.487739Z",
     "iopub.status.idle": "2023-12-30T23:52:36.670019Z",
     "shell.execute_reply": "2023-12-30T23:52:36.669061Z"
    },
    "papermill": {
     "duration": 4.193503,
     "end_time": "2023-12-30T23:52:36.672765",
     "exception": false,
     "start_time": "2023-12-30T23:52:32.479262",
     "status": "completed"
    },
    "tags": []
   },
   "outputs": [
    {
     "name": "stdout",
     "output_type": "stream",
     "text": [
      "51033\n",
      "27956\n"
     ]
    }
   ],
   "source": [
    "\n",
    "print(len(os.listdir(train)))\n",
    "print(len(os.listdir(test)))"
   ]
  },
  {
   "cell_type": "code",
   "execution_count": 7,
   "id": "88351bcd",
   "metadata": {
    "execution": {
     "iopub.execute_input": "2023-12-30T23:52:36.688662Z",
     "iopub.status.busy": "2023-12-30T23:52:36.687953Z",
     "iopub.status.idle": "2023-12-30T23:52:36.721933Z",
     "shell.execute_reply": "2023-12-30T23:52:36.720856Z"
    },
    "papermill": {
     "duration": 0.044697,
     "end_time": "2023-12-30T23:52:36.724463",
     "exception": false,
     "start_time": "2023-12-30T23:52:36.679766",
     "status": "completed"
    },
    "tags": []
   },
   "outputs": [
    {
     "name": "stdout",
     "output_type": "stream",
     "text": [
      "['80b5373b87942b.jpg', 'e113b51585c677.jpg', '94eb976e25416c.jpg', '19a45862ab99cd.jpg', 'be9645065510e9.jpg']\n",
      "['cd50701ae53ed8.jpg', '177269f927ed34.jpg', '9137934396d804.jpg', 'c28365a55a0dfe.jpg', '1a40b7b382923a.jpg']\n"
     ]
    }
   ],
   "source": [
    "print(os.listdir(train)[:5])\n",
    "print(os.listdir(test)[:5])\n"
   ]
  },
  {
   "cell_type": "code",
   "execution_count": 8,
   "id": "9f55ca8a",
   "metadata": {
    "execution": {
     "iopub.execute_input": "2023-12-30T23:52:36.740459Z",
     "iopub.status.busy": "2023-12-30T23:52:36.739799Z",
     "iopub.status.idle": "2023-12-30T23:53:22.150912Z",
     "shell.execute_reply": "2023-12-30T23:53:22.149977Z"
    },
    "papermill": {
     "duration": 45.422242,
     "end_time": "2023-12-30T23:53:22.153639",
     "exception": false,
     "start_time": "2023-12-30T23:52:36.731397",
     "status": "completed"
    },
    "tags": []
   },
   "outputs": [],
   "source": [
    "# Set image paths:\n",
    "\n",
    "train_jpg = tf.io.gfile.glob(train+'/*.jpg')\n",
    "test_jpg = tf.io.gfile.glob(test+'/*.jpg')\n"
   ]
  },
  {
   "cell_type": "code",
   "execution_count": 9,
   "id": "0e5a00bf",
   "metadata": {
    "execution": {
     "iopub.execute_input": "2023-12-30T23:53:22.170580Z",
     "iopub.status.busy": "2023-12-30T23:53:22.169968Z",
     "iopub.status.idle": "2023-12-30T23:53:22.293717Z",
     "shell.execute_reply": "2023-12-30T23:53:22.292539Z"
    },
    "papermill": {
     "duration": 0.134713,
     "end_time": "2023-12-30T23:53:22.296050",
     "exception": false,
     "start_time": "2023-12-30T23:53:22.161337",
     "status": "completed"
    },
    "tags": []
   },
   "outputs": [
    {
     "data": {
      "text/html": [
       "<div>\n",
       "<style scoped>\n",
       "    .dataframe tbody tr th:only-of-type {\n",
       "        vertical-align: middle;\n",
       "    }\n",
       "\n",
       "    .dataframe tbody tr th {\n",
       "        vertical-align: top;\n",
       "    }\n",
       "\n",
       "    .dataframe thead th {\n",
       "        text-align: right;\n",
       "    }\n",
       "</style>\n",
       "<table border=\"1\" class=\"dataframe\">\n",
       "  <thead>\n",
       "    <tr style=\"text-align: right;\">\n",
       "      <th></th>\n",
       "      <th>image</th>\n",
       "      <th>species</th>\n",
       "      <th>individual_id</th>\n",
       "    </tr>\n",
       "  </thead>\n",
       "  <tbody>\n",
       "    <tr>\n",
       "      <th>0</th>\n",
       "      <td>00021adfb725ed.jpg</td>\n",
       "      <td>melon_headed_whale</td>\n",
       "      <td>cadddb1636b9</td>\n",
       "    </tr>\n",
       "    <tr>\n",
       "      <th>1</th>\n",
       "      <td>000562241d384d.jpg</td>\n",
       "      <td>humpback_whale</td>\n",
       "      <td>1a71fbb72250</td>\n",
       "    </tr>\n",
       "    <tr>\n",
       "      <th>2</th>\n",
       "      <td>0007c33415ce37.jpg</td>\n",
       "      <td>false_killer_whale</td>\n",
       "      <td>60008f293a2b</td>\n",
       "    </tr>\n",
       "    <tr>\n",
       "      <th>3</th>\n",
       "      <td>0007d9bca26a99.jpg</td>\n",
       "      <td>bottlenose_dolphin</td>\n",
       "      <td>4b00fe572063</td>\n",
       "    </tr>\n",
       "    <tr>\n",
       "      <th>4</th>\n",
       "      <td>00087baf5cef7a.jpg</td>\n",
       "      <td>humpback_whale</td>\n",
       "      <td>8e5253662392</td>\n",
       "    </tr>\n",
       "  </tbody>\n",
       "</table>\n",
       "</div>"
      ],
      "text/plain": [
       "                image             species individual_id\n",
       "0  00021adfb725ed.jpg  melon_headed_whale  cadddb1636b9\n",
       "1  000562241d384d.jpg      humpback_whale  1a71fbb72250\n",
       "2  0007c33415ce37.jpg  false_killer_whale  60008f293a2b\n",
       "3  0007d9bca26a99.jpg  bottlenose_dolphin  4b00fe572063\n",
       "4  00087baf5cef7a.jpg      humpback_whale  8e5253662392"
      ]
     },
     "execution_count": 9,
     "metadata": {},
     "output_type": "execute_result"
    }
   ],
   "source": [
    "# View train dataset:\n",
    "\n",
    "train_data = pd.read_csv('../input/happy-whale-and-dolphin/train.csv', sep = ',')\n",
    "train_data.head()"
   ]
  },
  {
   "cell_type": "code",
   "execution_count": 10,
   "id": "f431845a",
   "metadata": {
    "execution": {
     "iopub.execute_input": "2023-12-30T23:53:22.313776Z",
     "iopub.status.busy": "2023-12-30T23:53:22.313400Z",
     "iopub.status.idle": "2023-12-30T23:53:22.331626Z",
     "shell.execute_reply": "2023-12-30T23:53:22.330599Z"
    },
    "papermill": {
     "duration": 0.030888,
     "end_time": "2023-12-30T23:53:22.334054",
     "exception": false,
     "start_time": "2023-12-30T23:53:22.303166",
     "status": "completed"
    },
    "tags": []
   },
   "outputs": [
    {
     "data": {
      "text/html": [
       "<div>\n",
       "<style scoped>\n",
       "    .dataframe tbody tr th:only-of-type {\n",
       "        vertical-align: middle;\n",
       "    }\n",
       "\n",
       "    .dataframe tbody tr th {\n",
       "        vertical-align: top;\n",
       "    }\n",
       "\n",
       "    .dataframe thead th {\n",
       "        text-align: right;\n",
       "    }\n",
       "</style>\n",
       "<table border=\"1\" class=\"dataframe\">\n",
       "  <thead>\n",
       "    <tr style=\"text-align: right;\">\n",
       "      <th></th>\n",
       "      <th>image</th>\n",
       "      <th>species</th>\n",
       "      <th>individual_id</th>\n",
       "    </tr>\n",
       "  </thead>\n",
       "  <tbody>\n",
       "    <tr>\n",
       "      <th>47053</th>\n",
       "      <td>ec6c1e034defd3.jpg</td>\n",
       "      <td>humpback_whale</td>\n",
       "      <td>032fd951a415</td>\n",
       "    </tr>\n",
       "    <tr>\n",
       "      <th>47701</th>\n",
       "      <td>ef8c3866adb5dd.jpg</td>\n",
       "      <td>humpback_whale</td>\n",
       "      <td>98ff54a624f0</td>\n",
       "    </tr>\n",
       "    <tr>\n",
       "      <th>36248</th>\n",
       "      <td>b627f5b5525b5b.jpg</td>\n",
       "      <td>spinner_dolphin</td>\n",
       "      <td>50ee31d17a87</td>\n",
       "    </tr>\n",
       "    <tr>\n",
       "      <th>11452</th>\n",
       "      <td>3a0274c9881f5c.jpg</td>\n",
       "      <td>blue_whale</td>\n",
       "      <td>f163b890934d</td>\n",
       "    </tr>\n",
       "    <tr>\n",
       "      <th>31514</th>\n",
       "      <td>9e7b76dc661edc.jpg</td>\n",
       "      <td>beluga</td>\n",
       "      <td>9a149b8ff660</td>\n",
       "    </tr>\n",
       "  </tbody>\n",
       "</table>\n",
       "</div>"
      ],
      "text/plain": [
       "                    image          species individual_id\n",
       "47053  ec6c1e034defd3.jpg   humpback_whale  032fd951a415\n",
       "47701  ef8c3866adb5dd.jpg   humpback_whale  98ff54a624f0\n",
       "36248  b627f5b5525b5b.jpg  spinner_dolphin  50ee31d17a87\n",
       "11452  3a0274c9881f5c.jpg       blue_whale  f163b890934d\n",
       "31514  9e7b76dc661edc.jpg           beluga  9a149b8ff660"
      ]
     },
     "execution_count": 10,
     "metadata": {},
     "output_type": "execute_result"
    }
   ],
   "source": [
    "train_data.sample(5)\n"
   ]
  },
  {
   "cell_type": "code",
   "execution_count": 11,
   "id": "57791604",
   "metadata": {
    "execution": {
     "iopub.execute_input": "2023-12-30T23:53:22.350694Z",
     "iopub.status.busy": "2023-12-30T23:53:22.350288Z",
     "iopub.status.idle": "2023-12-30T23:53:22.356966Z",
     "shell.execute_reply": "2023-12-30T23:53:22.355909Z"
    },
    "papermill": {
     "duration": 0.017715,
     "end_time": "2023-12-30T23:53:22.359250",
     "exception": false,
     "start_time": "2023-12-30T23:53:22.341535",
     "status": "completed"
    },
    "tags": []
   },
   "outputs": [
    {
     "data": {
      "text/plain": [
       "(51033, 3)"
      ]
     },
     "execution_count": 11,
     "metadata": {},
     "output_type": "execute_result"
    }
   ],
   "source": [
    "train_data.shape\n"
   ]
  },
  {
   "cell_type": "code",
   "execution_count": 12,
   "id": "3e46e52c",
   "metadata": {
    "execution": {
     "iopub.execute_input": "2023-12-30T23:53:22.376855Z",
     "iopub.status.busy": "2023-12-30T23:53:22.376422Z",
     "iopub.status.idle": "2023-12-30T23:53:22.405595Z",
     "shell.execute_reply": "2023-12-30T23:53:22.404504Z"
    },
    "papermill": {
     "duration": 0.040628,
     "end_time": "2023-12-30T23:53:22.407860",
     "exception": false,
     "start_time": "2023-12-30T23:53:22.367232",
     "status": "completed"
    },
    "tags": []
   },
   "outputs": [
    {
     "name": "stdout",
     "output_type": "stream",
     "text": [
      "<class 'pandas.core.frame.DataFrame'>\n",
      "RangeIndex: 51033 entries, 0 to 51032\n",
      "Data columns (total 3 columns):\n",
      " #   Column         Non-Null Count  Dtype \n",
      "---  ------         --------------  ----- \n",
      " 0   image          51033 non-null  object\n",
      " 1   species        51033 non-null  object\n",
      " 2   individual_id  51033 non-null  object\n",
      "dtypes: object(3)\n",
      "memory usage: 1.2+ MB\n"
     ]
    }
   ],
   "source": [
    "train_data.info()\n"
   ]
  },
  {
   "cell_type": "code",
   "execution_count": 13,
   "id": "fa23bd02",
   "metadata": {
    "execution": {
     "iopub.execute_input": "2023-12-30T23:53:22.424306Z",
     "iopub.status.busy": "2023-12-30T23:53:22.423945Z",
     "iopub.status.idle": "2023-12-30T23:53:22.492838Z",
     "shell.execute_reply": "2023-12-30T23:53:22.491747Z"
    },
    "papermill": {
     "duration": 0.079787,
     "end_time": "2023-12-30T23:53:22.495092",
     "exception": false,
     "start_time": "2023-12-30T23:53:22.415305",
     "status": "completed"
    },
    "tags": []
   },
   "outputs": [
    {
     "data": {
      "text/html": [
       "<div>\n",
       "<style scoped>\n",
       "    .dataframe tbody tr th:only-of-type {\n",
       "        vertical-align: middle;\n",
       "    }\n",
       "\n",
       "    .dataframe tbody tr th {\n",
       "        vertical-align: top;\n",
       "    }\n",
       "\n",
       "    .dataframe thead th {\n",
       "        text-align: right;\n",
       "    }\n",
       "</style>\n",
       "<table border=\"1\" class=\"dataframe\">\n",
       "  <thead>\n",
       "    <tr style=\"text-align: right;\">\n",
       "      <th></th>\n",
       "      <th>image</th>\n",
       "      <th>species</th>\n",
       "      <th>individual_id</th>\n",
       "    </tr>\n",
       "  </thead>\n",
       "  <tbody>\n",
       "    <tr>\n",
       "      <th>count</th>\n",
       "      <td>51033</td>\n",
       "      <td>51033</td>\n",
       "      <td>51033</td>\n",
       "    </tr>\n",
       "    <tr>\n",
       "      <th>unique</th>\n",
       "      <td>51033</td>\n",
       "      <td>30</td>\n",
       "      <td>15587</td>\n",
       "    </tr>\n",
       "    <tr>\n",
       "      <th>top</th>\n",
       "      <td>00021adfb725ed.jpg</td>\n",
       "      <td>bottlenose_dolphin</td>\n",
       "      <td>37c7aba965a5</td>\n",
       "    </tr>\n",
       "    <tr>\n",
       "      <th>freq</th>\n",
       "      <td>1</td>\n",
       "      <td>9664</td>\n",
       "      <td>400</td>\n",
       "    </tr>\n",
       "  </tbody>\n",
       "</table>\n",
       "</div>"
      ],
      "text/plain": [
       "                     image             species individual_id\n",
       "count                51033               51033         51033\n",
       "unique               51033                  30         15587\n",
       "top     00021adfb725ed.jpg  bottlenose_dolphin  37c7aba965a5\n",
       "freq                     1                9664           400"
      ]
     },
     "execution_count": 13,
     "metadata": {},
     "output_type": "execute_result"
    }
   ],
   "source": [
    "train_data.describe(include = 'all')\n"
   ]
  },
  {
   "cell_type": "code",
   "execution_count": 14,
   "id": "955098cb",
   "metadata": {
    "execution": {
     "iopub.execute_input": "2023-12-30T23:53:22.512966Z",
     "iopub.status.busy": "2023-12-30T23:53:22.512550Z",
     "iopub.status.idle": "2023-12-30T23:53:22.528207Z",
     "shell.execute_reply": "2023-12-30T23:53:22.527081Z"
    },
    "papermill": {
     "duration": 0.027485,
     "end_time": "2023-12-30T23:53:22.530557",
     "exception": false,
     "start_time": "2023-12-30T23:53:22.503072",
     "status": "completed"
    },
    "tags": []
   },
   "outputs": [
    {
     "data": {
      "text/plain": [
       "image            0\n",
       "species          0\n",
       "individual_id    0\n",
       "dtype: int64"
      ]
     },
     "execution_count": 14,
     "metadata": {},
     "output_type": "execute_result"
    }
   ],
   "source": [
    "train_data.isnull().sum()\n"
   ]
  },
  {
   "cell_type": "code",
   "execution_count": 15,
   "id": "9b009b99",
   "metadata": {
    "execution": {
     "iopub.execute_input": "2023-12-30T23:53:22.548027Z",
     "iopub.status.busy": "2023-12-30T23:53:22.547620Z",
     "iopub.status.idle": "2023-12-30T23:53:22.559303Z",
     "shell.execute_reply": "2023-12-30T23:53:22.558275Z"
    },
    "papermill": {
     "duration": 0.023036,
     "end_time": "2023-12-30T23:53:22.561468",
     "exception": false,
     "start_time": "2023-12-30T23:53:22.538432",
     "status": "completed"
    },
    "tags": []
   },
   "outputs": [
    {
     "data": {
      "text/plain": [
       "species\n",
       "bottlenose_dolphin           9664\n",
       "beluga                       7443\n",
       "humpback_whale               7392\n",
       "blue_whale                   4830\n",
       "false_killer_whale           3326\n",
       "dusky_dolphin                3139\n",
       "spinner_dolphin              1700\n",
       "melon_headed_whale           1689\n",
       "minke_whale                  1608\n",
       "killer_whale                 1493\n",
       "fin_whale                    1324\n",
       "gray_whale                   1123\n",
       "bottlenose_dolpin            1117\n",
       "kiler_whale                   962\n",
       "southern_right_whale          866\n",
       "spotted_dolphin               490\n",
       "sei_whale                     428\n",
       "short_finned_pilot_whale      367\n",
       "common_dolphin                347\n",
       "cuviers_beaked_whale          341\n",
       "pilot_whale                   262\n",
       "long_finned_pilot_whale       238\n",
       "white_sided_dolphin           229\n",
       "brydes_whale                  154\n",
       "pantropic_spotted_dolphin     145\n",
       "globis                        116\n",
       "commersons_dolphin             90\n",
       "pygmy_killer_whale             76\n",
       "rough_toothed_dolphin          60\n",
       "frasiers_dolphin               14\n",
       "Name: count, dtype: int64"
      ]
     },
     "execution_count": 15,
     "metadata": {},
     "output_type": "execute_result"
    }
   ],
   "source": [
    "train_data.species.value_counts()\n"
   ]
  },
  {
   "cell_type": "code",
   "execution_count": 16,
   "id": "30dae8a4",
   "metadata": {
    "execution": {
     "iopub.execute_input": "2023-12-30T23:53:22.579595Z",
     "iopub.status.busy": "2023-12-30T23:53:22.579190Z",
     "iopub.status.idle": "2023-12-30T23:53:22.594007Z",
     "shell.execute_reply": "2023-12-30T23:53:22.592966Z"
    },
    "papermill": {
     "duration": 0.026839,
     "end_time": "2023-12-30T23:53:22.596180",
     "exception": false,
     "start_time": "2023-12-30T23:53:22.569341",
     "status": "completed"
    },
    "tags": []
   },
   "outputs": [
    {
     "data": {
      "text/plain": [
       "35446"
      ]
     },
     "execution_count": 16,
     "metadata": {},
     "output_type": "execute_result"
    }
   ],
   "source": [
    "sum(train_data.individual_id.duplicated())\n"
   ]
  },
  {
   "cell_type": "code",
   "execution_count": 17,
   "id": "6c3f8d0e",
   "metadata": {
    "execution": {
     "iopub.execute_input": "2023-12-30T23:53:22.614344Z",
     "iopub.status.busy": "2023-12-30T23:53:22.613407Z",
     "iopub.status.idle": "2023-12-30T23:53:22.619032Z",
     "shell.execute_reply": "2023-12-30T23:53:22.617996Z"
    },
    "papermill": {
     "duration": 0.016767,
     "end_time": "2023-12-30T23:53:22.621052",
     "exception": false,
     "start_time": "2023-12-30T23:53:22.604285",
     "status": "completed"
    },
    "tags": []
   },
   "outputs": [],
   "source": [
    "\n",
    "def Load_Image(path):\n",
    "    image_path = tf.io.read_file(path)\n",
    "    image_path = tf.image.decode_image(image_path, channels = 3)\n",
    "    image_path = tf.image.convert_image_dtype(image_path, tf.float32)\n",
    "    return image_path"
   ]
  },
  {
   "cell_type": "code",
   "execution_count": 18,
   "id": "e1dd7b29",
   "metadata": {
    "execution": {
     "iopub.execute_input": "2023-12-30T23:53:22.638953Z",
     "iopub.status.busy": "2023-12-30T23:53:22.638210Z",
     "iopub.status.idle": "2023-12-30T23:53:22.661777Z",
     "shell.execute_reply": "2023-12-30T23:53:22.660941Z"
    },
    "papermill": {
     "duration": 0.035038,
     "end_time": "2023-12-30T23:53:22.663999",
     "exception": false,
     "start_time": "2023-12-30T23:53:22.628961",
     "status": "completed"
    },
    "tags": []
   },
   "outputs": [],
   "source": [
    "\n",
    "# Fix mis-spellings from species variable:\n",
    "\n",
    "train_data['species'] = train_data['species'].replace({'kiler_whale': 'killer_whale', \n",
    "                               'globis': 'pilot_whale', \n",
    "                               'beluga': 'beluga_whale',\n",
    "                               'bottlenose_dolpin': 'bottlenose_dolphin',\n",
    "                               'short_finned_pilot_whale': 'pilot_whale',\n",
    "                               'long_finned_pilot_whale': 'pilot_whale'})"
   ]
  },
  {
   "cell_type": "code",
   "execution_count": 19,
   "id": "d83d6934",
   "metadata": {
    "execution": {
     "iopub.execute_input": "2023-12-30T23:53:22.682242Z",
     "iopub.status.busy": "2023-12-30T23:53:22.681544Z",
     "iopub.status.idle": "2023-12-30T23:53:29.946298Z",
     "shell.execute_reply": "2023-12-30T23:53:29.945001Z"
    },
    "papermill": {
     "duration": 7.276939,
     "end_time": "2023-12-30T23:53:29.948882",
     "exception": false,
     "start_time": "2023-12-30T23:53:22.671943",
     "status": "completed"
    },
    "tags": []
   },
   "outputs": [
    {
     "data": {
      "text/html": [
       "<div>\n",
       "<style scoped>\n",
       "    .dataframe tbody tr th:only-of-type {\n",
       "        vertical-align: middle;\n",
       "    }\n",
       "\n",
       "    .dataframe tbody tr th {\n",
       "        vertical-align: top;\n",
       "    }\n",
       "\n",
       "    .dataframe thead th {\n",
       "        text-align: right;\n",
       "    }\n",
       "</style>\n",
       "<table border=\"1\" class=\"dataframe\">\n",
       "  <thead>\n",
       "    <tr style=\"text-align: right;\">\n",
       "      <th></th>\n",
       "      <th>image</th>\n",
       "      <th>species</th>\n",
       "      <th>individual_id</th>\n",
       "      <th>family</th>\n",
       "    </tr>\n",
       "  </thead>\n",
       "  <tbody>\n",
       "    <tr>\n",
       "      <th>12274</th>\n",
       "      <td>3dfa81046737ca.jpg</td>\n",
       "      <td>bottlenose_dolphin</td>\n",
       "      <td>eb0b97027ff4</td>\n",
       "      <td>dolphin</td>\n",
       "    </tr>\n",
       "    <tr>\n",
       "      <th>36920</th>\n",
       "      <td>b98d628823e1c3.jpg</td>\n",
       "      <td>bottlenose_dolphin</td>\n",
       "      <td>a43daee90cbc</td>\n",
       "      <td>dolphin</td>\n",
       "    </tr>\n",
       "    <tr>\n",
       "      <th>8311</th>\n",
       "      <td>29a742a1cd4ab2.jpg</td>\n",
       "      <td>bottlenose_dolphin</td>\n",
       "      <td>02cf681113ce</td>\n",
       "      <td>dolphin</td>\n",
       "    </tr>\n",
       "    <tr>\n",
       "      <th>23266</th>\n",
       "      <td>755cff817ee922.jpg</td>\n",
       "      <td>killer_whale</td>\n",
       "      <td>4b4c5f9ef032</td>\n",
       "      <td>whale</td>\n",
       "    </tr>\n",
       "    <tr>\n",
       "      <th>12154</th>\n",
       "      <td>3d6a01d965cb37.jpg</td>\n",
       "      <td>humpback_whale</td>\n",
       "      <td>970cdb141edc</td>\n",
       "      <td>whale</td>\n",
       "    </tr>\n",
       "  </tbody>\n",
       "</table>\n",
       "</div>"
      ],
      "text/plain": [
       "                    image             species individual_id   family\n",
       "12274  3dfa81046737ca.jpg  bottlenose_dolphin  eb0b97027ff4  dolphin\n",
       "36920  b98d628823e1c3.jpg  bottlenose_dolphin  a43daee90cbc  dolphin\n",
       "8311   29a742a1cd4ab2.jpg  bottlenose_dolphin  02cf681113ce  dolphin\n",
       "23266  755cff817ee922.jpg        killer_whale  4b4c5f9ef032    whale\n",
       "12154  3d6a01d965cb37.jpg      humpback_whale  970cdb141edc    whale"
      ]
     },
     "execution_count": 19,
     "metadata": {},
     "output_type": "execute_result"
    }
   ],
   "source": [
    "# Declare dolphin and whale variables for further analysis:\n",
    "\n",
    "dolphin = ['bottlenose_dolphin','common_dolphin','dusky_dolphin', 'spinner_dolphin', 'spotted_dolphin', 'commersons_dolphin', \n",
    "           'white_sided_dolphin', 'rough_toothed_dolphin', 'pantropic_spotted_dolphin', 'frasiers_dolphin']\n",
    "\n",
    "\n",
    "whale = ['melon_headed_whale', 'humpback_whale', 'false_killer_whale', 'belug_whale', 'minke_whale', 'fin_whale', 'blue_whale', 'gray_whale',\n",
    "         'southern_right_whale', 'killer_whale', 'pilot_whale', 'sei_whale', 'cuviers_beaked_whale', 'brydes_whale', 'pygmy_killer_whale']\n",
    "\n",
    "\n",
    "# Add to train dataset:\n",
    "train_data['family'] = 'dolphin'\n",
    "\n",
    "for ele in range(len(train_data)):\n",
    "    if train_data.species[ele] in whale:\n",
    "        train_data.family[ele] = 'whale'\n",
    "        \n",
    "        \n",
    "train_data.sample(5)"
   ]
  },
  {
   "cell_type": "code",
   "execution_count": 20,
   "id": "b1274de2",
   "metadata": {
    "execution": {
     "iopub.execute_input": "2023-12-30T23:53:29.967809Z",
     "iopub.status.busy": "2023-12-30T23:53:29.967387Z",
     "iopub.status.idle": "2023-12-30T23:53:29.973063Z",
     "shell.execute_reply": "2023-12-30T23:53:29.972082Z"
    },
    "papermill": {
     "duration": 0.017952,
     "end_time": "2023-12-30T23:53:29.975437",
     "exception": false,
     "start_time": "2023-12-30T23:53:29.957485",
     "status": "completed"
    },
    "tags": []
   },
   "outputs": [],
   "source": [
    "# Set globals:\n",
    "\n",
    "random_state = 42\n",
    "batch_size = 256\n",
    "epochs = 3\n",
    "seed = 42\n",
    "target_size = (64, 64)\n",
    "input_shape = (64, 64, 3)"
   ]
  },
  {
   "cell_type": "code",
   "execution_count": 21,
   "id": "71198e7e",
   "metadata": {
    "execution": {
     "iopub.execute_input": "2023-12-30T23:53:29.994508Z",
     "iopub.status.busy": "2023-12-30T23:53:29.993679Z",
     "iopub.status.idle": "2023-12-30T23:53:30.011912Z",
     "shell.execute_reply": "2023-12-30T23:53:30.010842Z"
    },
    "papermill": {
     "duration": 0.030532,
     "end_time": "2023-12-30T23:53:30.014486",
     "exception": false,
     "start_time": "2023-12-30T23:53:29.983954",
     "status": "completed"
    },
    "tags": []
   },
   "outputs": [],
   "source": [
    "train_data = shuffle(train_data, random_state = random_state)\n"
   ]
  },
  {
   "cell_type": "code",
   "execution_count": 22,
   "id": "8515cf5f",
   "metadata": {
    "execution": {
     "iopub.execute_input": "2023-12-30T23:53:30.032321Z",
     "iopub.status.busy": "2023-12-30T23:53:30.031941Z",
     "iopub.status.idle": "2023-12-30T23:53:30.036850Z",
     "shell.execute_reply": "2023-12-30T23:53:30.035863Z"
    },
    "papermill": {
     "duration": 0.016142,
     "end_time": "2023-12-30T23:53:30.038817",
     "exception": false,
     "start_time": "2023-12-30T23:53:30.022675",
     "status": "completed"
    },
    "tags": []
   },
   "outputs": [],
   "source": [
    "data_norm = ImageDataGenerator(rescale = 1.0/255, validation_split = 0.20)\n"
   ]
  },
  {
   "cell_type": "code",
   "execution_count": 23,
   "id": "83d4a82f",
   "metadata": {
    "execution": {
     "iopub.execute_input": "2023-12-30T23:53:30.056571Z",
     "iopub.status.busy": "2023-12-30T23:53:30.056236Z",
     "iopub.status.idle": "2023-12-30T23:53:50.916054Z",
     "shell.execute_reply": "2023-12-30T23:53:50.915109Z"
    },
    "papermill": {
     "duration": 20.871293,
     "end_time": "2023-12-30T23:53:50.918409",
     "exception": false,
     "start_time": "2023-12-30T23:53:30.047116",
     "status": "completed"
    },
    "tags": []
   },
   "outputs": [
    {
     "name": "stdout",
     "output_type": "stream",
     "text": [
      "Found 40827 validated image filenames belonging to 25 classes.\n"
     ]
    }
   ],
   "source": [
    "# Eet up training batching:\n",
    "\n",
    "gen_train = data_norm.flow_from_dataframe(train_data,\n",
    "                                          directory = train,\n",
    "                                          x_col = 'image',\n",
    "                                          y_col = 'species',\n",
    "                                          subset = 'training',\n",
    "                                          batch_size = batch_size,\n",
    "                                          class_mode = 'categorical',\n",
    "                                          seed = seed,\n",
    "                                          target_size = target_size)"
   ]
  },
  {
   "cell_type": "code",
   "execution_count": 24,
   "id": "0082c625",
   "metadata": {
    "execution": {
     "iopub.execute_input": "2023-12-30T23:53:50.936988Z",
     "iopub.status.busy": "2023-12-30T23:53:50.936582Z",
     "iopub.status.idle": "2023-12-30T23:54:12.700673Z",
     "shell.execute_reply": "2023-12-30T23:54:12.699244Z"
    },
    "papermill": {
     "duration": 21.776201,
     "end_time": "2023-12-30T23:54:12.703257",
     "exception": false,
     "start_time": "2023-12-30T23:53:50.927056",
     "status": "completed"
    },
    "tags": []
   },
   "outputs": [
    {
     "name": "stdout",
     "output_type": "stream",
     "text": [
      "Found 10206 validated image filenames belonging to 25 classes.\n"
     ]
    }
   ],
   "source": [
    "# Set up testing/validation batching:\n",
    "\n",
    "gen_valid = data_norm.flow_from_dataframe(train_data,\n",
    "                                          directory = train,\n",
    "                                          x_col = 'image',\n",
    "                                          y_col = 'species',\n",
    "                                          subset = 'validation',\n",
    "                                          batch_size = batch_size,\n",
    "                                          class_mode = 'categorical',\n",
    "                                          seed = seed,\n",
    "                                          target_size = target_size)"
   ]
  },
  {
   "cell_type": "code",
   "execution_count": 25,
   "id": "9dacee4c",
   "metadata": {
    "execution": {
     "iopub.execute_input": "2023-12-30T23:54:12.722012Z",
     "iopub.status.busy": "2023-12-30T23:54:12.721621Z",
     "iopub.status.idle": "2023-12-30T23:54:13.161961Z",
     "shell.execute_reply": "2023-12-30T23:54:13.160813Z"
    },
    "papermill": {
     "duration": 0.47301,
     "end_time": "2023-12-30T23:54:13.184922",
     "exception": false,
     "start_time": "2023-12-30T23:54:12.711912",
     "status": "completed"
    },
    "tags": []
   },
   "outputs": [
    {
     "name": "stdout",
     "output_type": "stream",
     "text": [
      "Model: \"sequential\"\n",
      "_________________________________________________________________\n",
      " Layer (type)                Output Shape              Param #   \n",
      "=================================================================\n",
      " conv2d (Conv2D)             (None, 60, 60, 32)        2432      \n",
      "                                                                 \n",
      " batch_normalization (Batch  (None, 60, 60, 32)        128       \n",
      " Normalization)                                                  \n",
      "                                                                 \n",
      " activation (Activation)     (None, 60, 60, 32)        0         \n",
      "                                                                 \n",
      " conv2d_1 (Conv2D)           (None, 56, 56, 32)        25632     \n",
      "                                                                 \n",
      " batch_normalization_1 (Bat  (None, 56, 56, 32)        128       \n",
      " chNormalization)                                                \n",
      "                                                                 \n",
      " activation_1 (Activation)   (None, 56, 56, 32)        0         \n",
      "                                                                 \n",
      " max_pooling2d (MaxPooling2  (None, 28, 28, 32)        0         \n",
      " D)                                                              \n",
      "                                                                 \n",
      " dropout (Dropout)           (None, 28, 28, 32)        0         \n",
      "                                                                 \n",
      " conv2d_2 (Conv2D)           (None, 24, 24, 64)        51264     \n",
      "                                                                 \n",
      " activation_2 (Activation)   (None, 24, 24, 64)        0         \n",
      "                                                                 \n",
      " batch_normalization_2 (Bat  (None, 24, 24, 64)        256       \n",
      " chNormalization)                                                \n",
      "                                                                 \n",
      " conv2d_3 (Conv2D)           (None, 20, 20, 128)       204928    \n",
      "                                                                 \n",
      " batch_normalization_3 (Bat  (None, 20, 20, 128)       512       \n",
      " chNormalization)                                                \n",
      "                                                                 \n",
      " activation_3 (Activation)   (None, 20, 20, 128)       0         \n",
      "                                                                 \n",
      " average_pooling2d (Average  (None, 10, 10, 128)       0         \n",
      " Pooling2D)                                                      \n",
      "                                                                 \n",
      " conv2d_4 (Conv2D)           (None, 6, 6, 128)         409728    \n",
      "                                                                 \n",
      " batch_normalization_4 (Bat  (None, 6, 6, 128)         512       \n",
      " chNormalization)                                                \n",
      "                                                                 \n",
      " activation_4 (Activation)   (None, 6, 6, 128)         0         \n",
      "                                                                 \n",
      " average_pooling2d_1 (Avera  (None, 3, 3, 128)         0         \n",
      " gePooling2D)                                                    \n",
      "                                                                 \n",
      " dropout_1 (Dropout)         (None, 3, 3, 128)         0         \n",
      "                                                                 \n",
      " flatten (Flatten)           (None, 1152)              0         \n",
      "                                                                 \n",
      " dense (Dense)               (None, 25)                28825     \n",
      "                                                                 \n",
      "=================================================================\n",
      "Total params: 724345 (2.76 MB)\n",
      "Trainable params: 723577 (2.76 MB)\n",
      "Non-trainable params: 768 (3.00 KB)\n",
      "_________________________________________________________________\n"
     ]
    }
   ],
   "source": [
    "# Build and Train Simple Model:\n",
    "\n",
    "mod = Sequential()\n",
    "\n",
    "# set up base model (simple base):\n",
    "mod.add(Conv2D(filters = 32, kernel_size = (5, 5), strides = (1, 1), input_shape = input_shape, padding ='valid'))\n",
    "mod.add(BatchNormalization())\n",
    "mod.add(Activation(LeakyReLU()))\n",
    "\n",
    "mod.add(Conv2D(filters = 32, kernel_size = (5, 5), strides = (1, 1), input_shape = input_shape, padding ='valid'))\n",
    "mod.add(BatchNormalization())\n",
    "mod.add(Activation(LeakyReLU()))\n",
    "mod.add(MaxPooling2D(pool_size = (2, 2)))\n",
    "mod.add(Dropout(0.1))\n",
    "\n",
    "mod.add(Conv2D(filters = 64, kernel_size = (5, 5), strides = (1, 1), input_shape = input_shape, padding ='valid'))\n",
    "mod.add(Activation(LeakyReLU()))\n",
    "mod.add(BatchNormalization())\n",
    "\n",
    "mod.add(Conv2D(filters = 128, kernel_size = (5, 5), strides = (1, 1), input_shape = input_shape, padding ='valid'))\n",
    "mod.add(BatchNormalization())\n",
    "mod.add(Activation(LeakyReLU()))\n",
    "mod.add(AveragePooling2D(pool_size = (2, 2)))\n",
    "\n",
    "mod.add(Conv2D(filters = 128, kernel_size = (5, 5), strides = (1, 1), input_shape = input_shape, padding ='valid'))\n",
    "mod.add(BatchNormalization())\n",
    "mod.add(Activation(LeakyReLU()))\n",
    "mod.add(AveragePooling2D(pool_size = (2, 2)))\n",
    "mod.add(Dropout(0.1))\n",
    "\n",
    "mod.add(Flatten())\n",
    "\n",
    "# set dense with activation as softmax:\n",
    "mod.add(Dense(train_data.species.nunique(), activation = 'softmax'))\n",
    "\n",
    "# set optimizer with small rate:\n",
    "opt = Adam(learning_rate = 0.0001)\n",
    "\n",
    "#set up loss function:\n",
    "losses = tf.keras.losses.CategoricalCrossentropy() \n",
    "\n",
    "# compile model:\n",
    "mod.compile(loss = 'categorical_crossentropy', metrics = ['accuracy'], optimizer = opt)\n",
    "\n",
    "# view model summary:\n",
    "mod.summary()"
   ]
  },
  {
   "cell_type": "code",
   "execution_count": 26,
   "id": "edbe33ec",
   "metadata": {
    "execution": {
     "iopub.execute_input": "2023-12-30T23:54:13.210745Z",
     "iopub.status.busy": "2023-12-30T23:54:13.210359Z",
     "iopub.status.idle": "2023-12-31T02:03:32.500640Z",
     "shell.execute_reply": "2023-12-31T02:03:32.496958Z"
    },
    "papermill": {
     "duration": 7759.332213,
     "end_time": "2023-12-31T02:03:32.529074",
     "exception": false,
     "start_time": "2023-12-30T23:54:13.196861",
     "status": "completed"
    },
    "tags": []
   },
   "outputs": [
    {
     "name": "stdout",
     "output_type": "stream",
     "text": [
      "Epoch 1/3\n",
      "160/160 [==============================] - 2617s 16s/step - loss: 1.4992 - accuracy: 0.5693 - val_loss: 3.1821 - val_accuracy: 0.1686\n",
      "Epoch 2/3\n",
      "160/160 [==============================] - 2518s 16s/step - loss: 1.0959 - accuracy: 0.6680 - val_loss: 2.9677 - val_accuracy: 0.2507\n",
      "Epoch 3/3\n",
      "160/160 [==============================] - 2541s 16s/step - loss: 0.9704 - accuracy: 0.7025 - val_loss: 1.5907 - val_accuracy: 0.5187\n"
     ]
    },
    {
     "data": {
      "text/plain": [
       "<keras.src.callbacks.History at 0x7e47d126f430>"
      ]
     },
     "execution_count": 26,
     "metadata": {},
     "output_type": "execute_result"
    }
   ],
   "source": [
    "# Train model:\n",
    "\n",
    "fit = mod.fit(gen_train, epochs = epochs, validation_data = gen_valid)\n",
    "fit"
   ]
  },
  {
   "cell_type": "markdown",
   "id": "8398f3f8",
   "metadata": {
    "papermill": {
     "duration": 0.043916,
     "end_time": "2023-12-31T02:03:32.616817",
     "exception": false,
     "start_time": "2023-12-31T02:03:32.572901",
     "status": "completed"
    },
    "tags": []
   },
   "source": []
  }
 ],
 "metadata": {
  "kaggle": {
   "accelerator": "none",
   "dataSources": [
    {
     "databundleVersionId": 3171193,
     "sourceId": 22962,
     "sourceType": "competition"
    }
   ],
   "dockerImageVersionId": 30626,
   "isGpuEnabled": false,
   "isInternetEnabled": true,
   "language": "python",
   "sourceType": "notebook"
  },
  "kernelspec": {
   "display_name": "Python 3",
   "language": "python",
   "name": "python3"
  },
  "language_info": {
   "codemirror_mode": {
    "name": "ipython",
    "version": 3
   },
   "file_extension": ".py",
   "mimetype": "text/x-python",
   "name": "python",
   "nbconvert_exporter": "python",
   "pygments_lexer": "ipython3",
   "version": "3.10.12"
  },
  "papermill": {
   "default_parameters": {},
   "duration": 7879.355015,
   "end_time": "2023-12-31T02:03:35.316993",
   "environment_variables": {},
   "exception": null,
   "input_path": "__notebook__.ipynb",
   "output_path": "__notebook__.ipynb",
   "parameters": {},
   "start_time": "2023-12-30T23:52:15.961978",
   "version": "2.4.0"
  }
 },
 "nbformat": 4,
 "nbformat_minor": 5
}
