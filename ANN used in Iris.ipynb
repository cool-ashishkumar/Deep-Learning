{
 "cells": [
  {
   "cell_type": "code",
   "execution_count": 1,
   "id": "d976202f",
   "metadata": {},
   "outputs": [],
   "source": [
    "import pandas as pd\n",
    "import matplotlib.pyplot as plt\n",
    "from sklearn.model_selection import train_test_split\n",
    "from sklearn.preprocessing import LabelEncoder, StandardScaler\n",
    "from sklearn.metrics import confusion_matrix, accuracy_score\n",
    "import tensorflow as tf\n",
    "from keras.models import Sequential\n",
    "from keras.layers import Dense"
   ]
  },
  {
   "cell_type": "code",
   "execution_count": 2,
   "id": "e02a65eb",
   "metadata": {},
   "outputs": [
    {
     "data": {
      "text/html": [
       "<div>\n",
       "<style scoped>\n",
       "    .dataframe tbody tr th:only-of-type {\n",
       "        vertical-align: middle;\n",
       "    }\n",
       "\n",
       "    .dataframe tbody tr th {\n",
       "        vertical-align: top;\n",
       "    }\n",
       "\n",
       "    .dataframe thead th {\n",
       "        text-align: right;\n",
       "    }\n",
       "</style>\n",
       "<table border=\"1\" class=\"dataframe\">\n",
       "  <thead>\n",
       "    <tr style=\"text-align: right;\">\n",
       "      <th></th>\n",
       "      <th>Id</th>\n",
       "      <th>SepalLengthCm</th>\n",
       "      <th>SepalWidthCm</th>\n",
       "      <th>PetalLengthCm</th>\n",
       "      <th>PetalWidthCm</th>\n",
       "      <th>Species</th>\n",
       "    </tr>\n",
       "  </thead>\n",
       "  <tbody>\n",
       "    <tr>\n",
       "      <th>0</th>\n",
       "      <td>1</td>\n",
       "      <td>5.1</td>\n",
       "      <td>3.5</td>\n",
       "      <td>1.4</td>\n",
       "      <td>0.2</td>\n",
       "      <td>Iris-setosa</td>\n",
       "    </tr>\n",
       "    <tr>\n",
       "      <th>1</th>\n",
       "      <td>2</td>\n",
       "      <td>4.9</td>\n",
       "      <td>3.0</td>\n",
       "      <td>1.4</td>\n",
       "      <td>0.2</td>\n",
       "      <td>Iris-setosa</td>\n",
       "    </tr>\n",
       "    <tr>\n",
       "      <th>2</th>\n",
       "      <td>3</td>\n",
       "      <td>4.7</td>\n",
       "      <td>3.2</td>\n",
       "      <td>1.3</td>\n",
       "      <td>0.2</td>\n",
       "      <td>Iris-setosa</td>\n",
       "    </tr>\n",
       "    <tr>\n",
       "      <th>3</th>\n",
       "      <td>4</td>\n",
       "      <td>4.6</td>\n",
       "      <td>3.1</td>\n",
       "      <td>1.5</td>\n",
       "      <td>0.2</td>\n",
       "      <td>Iris-setosa</td>\n",
       "    </tr>\n",
       "    <tr>\n",
       "      <th>4</th>\n",
       "      <td>5</td>\n",
       "      <td>5.0</td>\n",
       "      <td>3.6</td>\n",
       "      <td>1.4</td>\n",
       "      <td>0.2</td>\n",
       "      <td>Iris-setosa</td>\n",
       "    </tr>\n",
       "  </tbody>\n",
       "</table>\n",
       "</div>"
      ],
      "text/plain": [
       "   Id  SepalLengthCm  SepalWidthCm  PetalLengthCm  PetalWidthCm      Species\n",
       "0   1            5.1           3.5            1.4           0.2  Iris-setosa\n",
       "1   2            4.9           3.0            1.4           0.2  Iris-setosa\n",
       "2   3            4.7           3.2            1.3           0.2  Iris-setosa\n",
       "3   4            4.6           3.1            1.5           0.2  Iris-setosa\n",
       "4   5            5.0           3.6            1.4           0.2  Iris-setosa"
      ]
     },
     "execution_count": 2,
     "metadata": {},
     "output_type": "execute_result"
    }
   ],
   "source": [
    "data= pd.read_csv(r\"C:\\Users\\ASHISH KUMAR\\OneDrive\\Desktop\\Python\\Dataset\\Iris code\\Iris.csv\")\n",
    "data.head()"
   ]
  },
  {
   "cell_type": "code",
   "execution_count": 3,
   "id": "165c77f6",
   "metadata": {},
   "outputs": [
    {
     "data": {
      "text/plain": [
       "4"
      ]
     },
     "execution_count": 3,
     "metadata": {},
     "output_type": "execute_result"
    }
   ],
   "source": [
    "X= data.iloc[:,1:-1]\n",
    "y= data.iloc[:,-1]\n",
    "X.shape[1]"
   ]
  },
  {
   "cell_type": "code",
   "execution_count": 4,
   "id": "eaf60ca0",
   "metadata": {},
   "outputs": [
    {
     "data": {
      "text/html": [
       "<style>#sk-container-id-1 {color: black;}#sk-container-id-1 pre{padding: 0;}#sk-container-id-1 div.sk-toggleable {background-color: white;}#sk-container-id-1 label.sk-toggleable__label {cursor: pointer;display: block;width: 100%;margin-bottom: 0;padding: 0.3em;box-sizing: border-box;text-align: center;}#sk-container-id-1 label.sk-toggleable__label-arrow:before {content: \"▸\";float: left;margin-right: 0.25em;color: #696969;}#sk-container-id-1 label.sk-toggleable__label-arrow:hover:before {color: black;}#sk-container-id-1 div.sk-estimator:hover label.sk-toggleable__label-arrow:before {color: black;}#sk-container-id-1 div.sk-toggleable__content {max-height: 0;max-width: 0;overflow: hidden;text-align: left;background-color: #f0f8ff;}#sk-container-id-1 div.sk-toggleable__content pre {margin: 0.2em;color: black;border-radius: 0.25em;background-color: #f0f8ff;}#sk-container-id-1 input.sk-toggleable__control:checked~div.sk-toggleable__content {max-height: 200px;max-width: 100%;overflow: auto;}#sk-container-id-1 input.sk-toggleable__control:checked~label.sk-toggleable__label-arrow:before {content: \"▾\";}#sk-container-id-1 div.sk-estimator input.sk-toggleable__control:checked~label.sk-toggleable__label {background-color: #d4ebff;}#sk-container-id-1 div.sk-label input.sk-toggleable__control:checked~label.sk-toggleable__label {background-color: #d4ebff;}#sk-container-id-1 input.sk-hidden--visually {border: 0;clip: rect(1px 1px 1px 1px);clip: rect(1px, 1px, 1px, 1px);height: 1px;margin: -1px;overflow: hidden;padding: 0;position: absolute;width: 1px;}#sk-container-id-1 div.sk-estimator {font-family: monospace;background-color: #f0f8ff;border: 1px dotted black;border-radius: 0.25em;box-sizing: border-box;margin-bottom: 0.5em;}#sk-container-id-1 div.sk-estimator:hover {background-color: #d4ebff;}#sk-container-id-1 div.sk-parallel-item::after {content: \"\";width: 100%;border-bottom: 1px solid gray;flex-grow: 1;}#sk-container-id-1 div.sk-label:hover label.sk-toggleable__label {background-color: #d4ebff;}#sk-container-id-1 div.sk-serial::before {content: \"\";position: absolute;border-left: 1px solid gray;box-sizing: border-box;top: 0;bottom: 0;left: 50%;z-index: 0;}#sk-container-id-1 div.sk-serial {display: flex;flex-direction: column;align-items: center;background-color: white;padding-right: 0.2em;padding-left: 0.2em;position: relative;}#sk-container-id-1 div.sk-item {position: relative;z-index: 1;}#sk-container-id-1 div.sk-parallel {display: flex;align-items: stretch;justify-content: center;background-color: white;position: relative;}#sk-container-id-1 div.sk-item::before, #sk-container-id-1 div.sk-parallel-item::before {content: \"\";position: absolute;border-left: 1px solid gray;box-sizing: border-box;top: 0;bottom: 0;left: 50%;z-index: -1;}#sk-container-id-1 div.sk-parallel-item {display: flex;flex-direction: column;z-index: 1;position: relative;background-color: white;}#sk-container-id-1 div.sk-parallel-item:first-child::after {align-self: flex-end;width: 50%;}#sk-container-id-1 div.sk-parallel-item:last-child::after {align-self: flex-start;width: 50%;}#sk-container-id-1 div.sk-parallel-item:only-child::after {width: 0;}#sk-container-id-1 div.sk-dashed-wrapped {border: 1px dashed gray;margin: 0 0.4em 0.5em 0.4em;box-sizing: border-box;padding-bottom: 0.4em;background-color: white;}#sk-container-id-1 div.sk-label label {font-family: monospace;font-weight: bold;display: inline-block;line-height: 1.2em;}#sk-container-id-1 div.sk-label-container {text-align: center;}#sk-container-id-1 div.sk-container {/* jupyter's `normalize.less` sets `[hidden] { display: none; }` but bootstrap.min.css set `[hidden] { display: none !important; }` so we also need the `!important` here to be able to override the default hidden behavior on the sphinx rendered scikit-learn.org. See: https://github.com/scikit-learn/scikit-learn/issues/21755 */display: inline-block !important;position: relative;}#sk-container-id-1 div.sk-text-repr-fallback {display: none;}</style><div id=\"sk-container-id-1\" class=\"sk-top-container\"><div class=\"sk-text-repr-fallback\"><pre>LabelEncoder()</pre><b>In a Jupyter environment, please rerun this cell to show the HTML representation or trust the notebook. <br />On GitHub, the HTML representation is unable to render, please try loading this page with nbviewer.org.</b></div><div class=\"sk-container\" hidden><div class=\"sk-item\"><div class=\"sk-estimator sk-toggleable\"><input class=\"sk-toggleable__control sk-hidden--visually\" id=\"sk-estimator-id-1\" type=\"checkbox\" checked><label for=\"sk-estimator-id-1\" class=\"sk-toggleable__label sk-toggleable__label-arrow\">LabelEncoder</label><div class=\"sk-toggleable__content\"><pre>LabelEncoder()</pre></div></div></div></div></div>"
      ],
      "text/plain": [
       "LabelEncoder()"
      ]
     },
     "execution_count": 4,
     "metadata": {},
     "output_type": "execute_result"
    }
   ],
   "source": [
    "l= LabelEncoder()\n",
    "l"
   ]
  },
  {
   "cell_type": "code",
   "execution_count": 5,
   "id": "44872a1a",
   "metadata": {},
   "outputs": [
    {
     "data": {
      "text/plain": [
       "array([0, 0, 0, 0, 0, 0, 0, 0, 0, 0, 0, 0, 0, 0, 0, 0, 0, 0, 0, 0, 0, 0,\n",
       "       0, 0, 0, 0, 0, 0, 0, 0, 0, 0, 0, 0, 0, 0, 0, 0, 0, 0, 0, 0, 0, 0,\n",
       "       0, 0, 0, 0, 0, 0, 1, 1, 1, 1, 1, 1, 1, 1, 1, 1, 1, 1, 1, 1, 1, 1,\n",
       "       1, 1, 1, 1, 1, 1, 1, 1, 1, 1, 1, 1, 1, 1, 1, 1, 1, 1, 1, 1, 1, 1,\n",
       "       1, 1, 1, 1, 1, 1, 1, 1, 1, 1, 1, 1, 2, 2, 2, 2, 2, 2, 2, 2, 2, 2,\n",
       "       2, 2, 2, 2, 2, 2, 2, 2, 2, 2, 2, 2, 2, 2, 2, 2, 2, 2, 2, 2, 2, 2,\n",
       "       2, 2, 2, 2, 2, 2, 2, 2, 2, 2, 2, 2, 2, 2, 2, 2, 2, 2])"
      ]
     },
     "execution_count": 5,
     "metadata": {},
     "output_type": "execute_result"
    }
   ],
   "source": [
    "y= l.fit_transform(y)\n",
    "y"
   ]
  },
  {
   "cell_type": "code",
   "execution_count": 6,
   "id": "28373c64",
   "metadata": {},
   "outputs": [],
   "source": [
    "X_train, X_test, y_train, y_test = train_test_split(X, y, test_size=0.3, random_state=42)"
   ]
  },
  {
   "cell_type": "code",
   "execution_count": 7,
   "id": "1f29fddc",
   "metadata": {},
   "outputs": [
    {
     "data": {
      "text/plain": [
       "4"
      ]
     },
     "execution_count": 7,
     "metadata": {},
     "output_type": "execute_result"
    }
   ],
   "source": [
    "len(X_train)\n",
    "X_train.shape[1]"
   ]
  },
  {
   "cell_type": "code",
   "execution_count": 8,
   "id": "d0affd88",
   "metadata": {},
   "outputs": [
    {
     "data": {
      "text/plain": [
       "45"
      ]
     },
     "execution_count": 8,
     "metadata": {},
     "output_type": "execute_result"
    }
   ],
   "source": [
    "len(X_test)"
   ]
  },
  {
   "cell_type": "code",
   "execution_count": 9,
   "id": "1f28beb6",
   "metadata": {},
   "outputs": [
    {
     "data": {
      "text/html": [
       "<style>#sk-container-id-2 {color: black;}#sk-container-id-2 pre{padding: 0;}#sk-container-id-2 div.sk-toggleable {background-color: white;}#sk-container-id-2 label.sk-toggleable__label {cursor: pointer;display: block;width: 100%;margin-bottom: 0;padding: 0.3em;box-sizing: border-box;text-align: center;}#sk-container-id-2 label.sk-toggleable__label-arrow:before {content: \"▸\";float: left;margin-right: 0.25em;color: #696969;}#sk-container-id-2 label.sk-toggleable__label-arrow:hover:before {color: black;}#sk-container-id-2 div.sk-estimator:hover label.sk-toggleable__label-arrow:before {color: black;}#sk-container-id-2 div.sk-toggleable__content {max-height: 0;max-width: 0;overflow: hidden;text-align: left;background-color: #f0f8ff;}#sk-container-id-2 div.sk-toggleable__content pre {margin: 0.2em;color: black;border-radius: 0.25em;background-color: #f0f8ff;}#sk-container-id-2 input.sk-toggleable__control:checked~div.sk-toggleable__content {max-height: 200px;max-width: 100%;overflow: auto;}#sk-container-id-2 input.sk-toggleable__control:checked~label.sk-toggleable__label-arrow:before {content: \"▾\";}#sk-container-id-2 div.sk-estimator input.sk-toggleable__control:checked~label.sk-toggleable__label {background-color: #d4ebff;}#sk-container-id-2 div.sk-label input.sk-toggleable__control:checked~label.sk-toggleable__label {background-color: #d4ebff;}#sk-container-id-2 input.sk-hidden--visually {border: 0;clip: rect(1px 1px 1px 1px);clip: rect(1px, 1px, 1px, 1px);height: 1px;margin: -1px;overflow: hidden;padding: 0;position: absolute;width: 1px;}#sk-container-id-2 div.sk-estimator {font-family: monospace;background-color: #f0f8ff;border: 1px dotted black;border-radius: 0.25em;box-sizing: border-box;margin-bottom: 0.5em;}#sk-container-id-2 div.sk-estimator:hover {background-color: #d4ebff;}#sk-container-id-2 div.sk-parallel-item::after {content: \"\";width: 100%;border-bottom: 1px solid gray;flex-grow: 1;}#sk-container-id-2 div.sk-label:hover label.sk-toggleable__label {background-color: #d4ebff;}#sk-container-id-2 div.sk-serial::before {content: \"\";position: absolute;border-left: 1px solid gray;box-sizing: border-box;top: 0;bottom: 0;left: 50%;z-index: 0;}#sk-container-id-2 div.sk-serial {display: flex;flex-direction: column;align-items: center;background-color: white;padding-right: 0.2em;padding-left: 0.2em;position: relative;}#sk-container-id-2 div.sk-item {position: relative;z-index: 1;}#sk-container-id-2 div.sk-parallel {display: flex;align-items: stretch;justify-content: center;background-color: white;position: relative;}#sk-container-id-2 div.sk-item::before, #sk-container-id-2 div.sk-parallel-item::before {content: \"\";position: absolute;border-left: 1px solid gray;box-sizing: border-box;top: 0;bottom: 0;left: 50%;z-index: -1;}#sk-container-id-2 div.sk-parallel-item {display: flex;flex-direction: column;z-index: 1;position: relative;background-color: white;}#sk-container-id-2 div.sk-parallel-item:first-child::after {align-self: flex-end;width: 50%;}#sk-container-id-2 div.sk-parallel-item:last-child::after {align-self: flex-start;width: 50%;}#sk-container-id-2 div.sk-parallel-item:only-child::after {width: 0;}#sk-container-id-2 div.sk-dashed-wrapped {border: 1px dashed gray;margin: 0 0.4em 0.5em 0.4em;box-sizing: border-box;padding-bottom: 0.4em;background-color: white;}#sk-container-id-2 div.sk-label label {font-family: monospace;font-weight: bold;display: inline-block;line-height: 1.2em;}#sk-container-id-2 div.sk-label-container {text-align: center;}#sk-container-id-2 div.sk-container {/* jupyter's `normalize.less` sets `[hidden] { display: none; }` but bootstrap.min.css set `[hidden] { display: none !important; }` so we also need the `!important` here to be able to override the default hidden behavior on the sphinx rendered scikit-learn.org. See: https://github.com/scikit-learn/scikit-learn/issues/21755 */display: inline-block !important;position: relative;}#sk-container-id-2 div.sk-text-repr-fallback {display: none;}</style><div id=\"sk-container-id-2\" class=\"sk-top-container\"><div class=\"sk-text-repr-fallback\"><pre>StandardScaler()</pre><b>In a Jupyter environment, please rerun this cell to show the HTML representation or trust the notebook. <br />On GitHub, the HTML representation is unable to render, please try loading this page with nbviewer.org.</b></div><div class=\"sk-container\" hidden><div class=\"sk-item\"><div class=\"sk-estimator sk-toggleable\"><input class=\"sk-toggleable__control sk-hidden--visually\" id=\"sk-estimator-id-2\" type=\"checkbox\" checked><label for=\"sk-estimator-id-2\" class=\"sk-toggleable__label sk-toggleable__label-arrow\">StandardScaler</label><div class=\"sk-toggleable__content\"><pre>StandardScaler()</pre></div></div></div></div></div>"
      ],
      "text/plain": [
       "StandardScaler()"
      ]
     },
     "execution_count": 9,
     "metadata": {},
     "output_type": "execute_result"
    }
   ],
   "source": [
    "sc= StandardScaler()\n",
    "sc"
   ]
  },
  {
   "cell_type": "code",
   "execution_count": 10,
   "id": "1c3fb514",
   "metadata": {},
   "outputs": [],
   "source": [
    "p = sc.fit_transform(X_train,X_test)"
   ]
  },
  {
   "cell_type": "code",
   "execution_count": 11,
   "id": "c30295b9",
   "metadata": {},
   "outputs": [
    {
     "data": {
      "text/plain": [
       "<keras.src.engine.sequential.Sequential at 0x16e1ba70c90>"
      ]
     },
     "execution_count": 11,
     "metadata": {},
     "output_type": "execute_result"
    }
   ],
   "source": [
    "# Using ANN\n",
    "\n",
    "cl = Sequential()\n",
    "cl"
   ]
  },
  {
   "cell_type": "code",
   "execution_count": 12,
   "id": "60dcf124",
   "metadata": {},
   "outputs": [],
   "source": [
    "cl.add(Dense(units= 4, kernel_initializer= 'he_uniform', activation = 'relu', input_dim= 4))"
   ]
  },
  {
   "cell_type": "code",
   "execution_count": 13,
   "id": "21dc3586",
   "metadata": {},
   "outputs": [],
   "source": [
    "cl.add(Dense(units= 3, kernel_initializer= 'he_uniform', activation = 'relu'))"
   ]
  },
  {
   "cell_type": "code",
   "execution_count": 14,
   "id": "d79d379b",
   "metadata": {},
   "outputs": [
    {
     "data": {
      "text/plain": [
       "<keras.src.layers.regularization.dropout.Dropout at 0x16e1962a0d0>"
      ]
     },
     "execution_count": 14,
     "metadata": {},
     "output_type": "execute_result"
    }
   ],
   "source": [
    "tf.keras.layers.Dropout(0.3)"
   ]
  },
  {
   "cell_type": "code",
   "execution_count": 15,
   "id": "1db28e96",
   "metadata": {},
   "outputs": [],
   "source": [
    "cl.add(Dense(units= 1, kernel_initializer= 'glorot_uniform', activation = 'sigmoid'))"
   ]
  },
  {
   "cell_type": "code",
   "execution_count": 16,
   "id": "bd51aec4",
   "metadata": {},
   "outputs": [
    {
     "data": {
      "text/plain": [
       "<keras.src.layers.regularization.dropout.Dropout at 0x16e1bb38450>"
      ]
     },
     "execution_count": 16,
     "metadata": {},
     "output_type": "execute_result"
    }
   ],
   "source": [
    "tf.keras.layers.Dropout(0.3)"
   ]
  },
  {
   "cell_type": "code",
   "execution_count": 17,
   "id": "a7a74e19",
   "metadata": {},
   "outputs": [],
   "source": [
    "cl.compile(optimizer='Adam',loss = 'binary_crossentropy',metrics=['accuracy'])"
   ]
  },
  {
   "cell_type": "code",
   "execution_count": 18,
   "id": "471bd819",
   "metadata": {},
   "outputs": [
    {
     "name": "stdout",
     "output_type": "stream",
     "text": [
      "Model: \"sequential\"\n",
      "_________________________________________________________________\n",
      " Layer (type)                Output Shape              Param #   \n",
      "=================================================================\n",
      " dense (Dense)               (None, 4)                 20        \n",
      "                                                                 \n",
      " dense_1 (Dense)             (None, 3)                 15        \n",
      "                                                                 \n",
      " dense_2 (Dense)             (None, 1)                 4         \n",
      "                                                                 \n",
      "=================================================================\n",
      "Total params: 39 (156.00 Byte)\n",
      "Trainable params: 39 (156.00 Byte)\n",
      "Non-trainable params: 0 (0.00 Byte)\n",
      "_________________________________________________________________\n"
     ]
    }
   ],
   "source": [
    "cl.summary()"
   ]
  },
  {
   "cell_type": "code",
   "execution_count": 26,
   "id": "32178c54",
   "metadata": {},
   "outputs": [
    {
     "name": "stdout",
     "output_type": "stream",
     "text": [
      "Epoch 1/200\n",
      "8/8 [==============================] - 0s 15ms/step - loss: 0.0444 - accuracy: 0.6575 - val_loss: 0.0649 - val_accuracy: 0.6250\n",
      "Epoch 2/200\n",
      "8/8 [==============================] - 0s 9ms/step - loss: 0.0404 - accuracy: 0.6575 - val_loss: 0.0605 - val_accuracy: 0.6250\n",
      "Epoch 3/200\n",
      "8/8 [==============================] - 0s 8ms/step - loss: 0.0365 - accuracy: 0.6575 - val_loss: 0.0562 - val_accuracy: 0.6250\n",
      "Epoch 4/200\n",
      "8/8 [==============================] - 0s 9ms/step - loss: 0.0326 - accuracy: 0.6575 - val_loss: 0.0517 - val_accuracy: 0.6250\n",
      "Epoch 5/200\n",
      "8/8 [==============================] - 0s 9ms/step - loss: 0.0285 - accuracy: 0.6575 - val_loss: 0.0472 - val_accuracy: 0.6250\n",
      "Epoch 6/200\n",
      "8/8 [==============================] - 0s 8ms/step - loss: 0.0246 - accuracy: 0.6575 - val_loss: 0.0428 - val_accuracy: 0.6250\n",
      "Epoch 7/200\n",
      "8/8 [==============================] - 0s 8ms/step - loss: 0.0207 - accuracy: 0.6575 - val_loss: 0.0385 - val_accuracy: 0.6250\n",
      "Epoch 8/200\n",
      "8/8 [==============================] - 0s 9ms/step - loss: 0.0172 - accuracy: 0.6575 - val_loss: 0.0342 - val_accuracy: 0.6250\n",
      "Epoch 9/200\n",
      "8/8 [==============================] - 0s 8ms/step - loss: 0.0131 - accuracy: 0.6575 - val_loss: 0.0303 - val_accuracy: 0.6250\n",
      "Epoch 10/200\n",
      "8/8 [==============================] - 0s 9ms/step - loss: 0.0095 - accuracy: 0.6575 - val_loss: 0.0260 - val_accuracy: 0.6250\n",
      "Epoch 11/200\n",
      "8/8 [==============================] - 0s 8ms/step - loss: 0.0057 - accuracy: 0.6575 - val_loss: 0.0217 - val_accuracy: 0.6250\n",
      "Epoch 12/200\n",
      "8/8 [==============================] - 0s 8ms/step - loss: 0.0018 - accuracy: 0.6575 - val_loss: 0.0174 - val_accuracy: 0.6250\n",
      "Epoch 13/200\n",
      "8/8 [==============================] - 0s 8ms/step - loss: -0.0020 - accuracy: 0.6575 - val_loss: 0.0129 - val_accuracy: 0.6250\n",
      "Epoch 14/200\n",
      "8/8 [==============================] - 0s 8ms/step - loss: -0.0059 - accuracy: 0.6575 - val_loss: 0.0087 - val_accuracy: 0.6250\n",
      "Epoch 15/200\n",
      "8/8 [==============================] - 0s 8ms/step - loss: -0.0097 - accuracy: 0.6575 - val_loss: 0.0045 - val_accuracy: 0.6250\n",
      "Epoch 16/200\n",
      "8/8 [==============================] - 0s 8ms/step - loss: -0.0134 - accuracy: 0.6575 - val_loss: 3.4535e-04 - val_accuracy: 0.6250\n",
      "Epoch 17/200\n",
      "8/8 [==============================] - 0s 9ms/step - loss: -0.0171 - accuracy: 0.6575 - val_loss: -0.0036 - val_accuracy: 0.6250\n",
      "Epoch 18/200\n",
      "8/8 [==============================] - 0s 9ms/step - loss: -0.0206 - accuracy: 0.6575 - val_loss: -0.0077 - val_accuracy: 0.6250\n",
      "Epoch 19/200\n",
      "8/8 [==============================] - 0s 8ms/step - loss: -0.0239 - accuracy: 0.6575 - val_loss: -0.0118 - val_accuracy: 0.6250\n",
      "Epoch 20/200\n",
      "8/8 [==============================] - 0s 9ms/step - loss: -0.0280 - accuracy: 0.6575 - val_loss: -0.0155 - val_accuracy: 0.6250\n",
      "Epoch 21/200\n",
      "8/8 [==============================] - 0s 9ms/step - loss: -0.0314 - accuracy: 0.6575 - val_loss: -0.0195 - val_accuracy: 0.6250\n",
      "Epoch 22/200\n",
      "8/8 [==============================] - 0s 9ms/step - loss: -0.0348 - accuracy: 0.6575 - val_loss: -0.0240 - val_accuracy: 0.6250\n",
      "Epoch 23/200\n",
      "8/8 [==============================] - 0s 8ms/step - loss: -0.0388 - accuracy: 0.6575 - val_loss: -0.0279 - val_accuracy: 0.6250\n",
      "Epoch 24/200\n",
      "8/8 [==============================] - 0s 10ms/step - loss: -0.0423 - accuracy: 0.6575 - val_loss: -0.0324 - val_accuracy: 0.6250\n",
      "Epoch 25/200\n",
      "8/8 [==============================] - 0s 9ms/step - loss: -0.0462 - accuracy: 0.6575 - val_loss: -0.0364 - val_accuracy: 0.6250\n",
      "Epoch 26/200\n",
      "8/8 [==============================] - 0s 10ms/step - loss: -0.0497 - accuracy: 0.6575 - val_loss: -0.0404 - val_accuracy: 0.6250\n",
      "Epoch 27/200\n",
      "8/8 [==============================] - 0s 9ms/step - loss: -0.0533 - accuracy: 0.6575 - val_loss: -0.0445 - val_accuracy: 0.6250\n",
      "Epoch 28/200\n",
      "8/8 [==============================] - 0s 9ms/step - loss: -0.0570 - accuracy: 0.6575 - val_loss: -0.0483 - val_accuracy: 0.6250\n",
      "Epoch 29/200\n",
      "8/8 [==============================] - 0s 8ms/step - loss: -0.0604 - accuracy: 0.6575 - val_loss: -0.0523 - val_accuracy: 0.6250\n",
      "Epoch 30/200\n",
      "8/8 [==============================] - 0s 8ms/step - loss: -0.0639 - accuracy: 0.6575 - val_loss: -0.0561 - val_accuracy: 0.6250\n",
      "Epoch 31/200\n",
      "8/8 [==============================] - 0s 8ms/step - loss: -0.0673 - accuracy: 0.6575 - val_loss: -0.0600 - val_accuracy: 0.6250\n",
      "Epoch 32/200\n",
      "8/8 [==============================] - 0s 6ms/step - loss: -0.0709 - accuracy: 0.6575 - val_loss: -0.0641 - val_accuracy: 0.6250\n",
      "Epoch 33/200\n",
      "8/8 [==============================] - 0s 8ms/step - loss: -0.0745 - accuracy: 0.6575 - val_loss: -0.0681 - val_accuracy: 0.6250\n",
      "Epoch 34/200\n",
      "8/8 [==============================] - 0s 8ms/step - loss: -0.0781 - accuracy: 0.6575 - val_loss: -0.0721 - val_accuracy: 0.6250\n",
      "Epoch 35/200\n",
      "8/8 [==============================] - 0s 8ms/step - loss: -0.0817 - accuracy: 0.6575 - val_loss: -0.0759 - val_accuracy: 0.6250\n",
      "Epoch 36/200\n",
      "8/8 [==============================] - 0s 8ms/step - loss: -0.0853 - accuracy: 0.6575 - val_loss: -0.0798 - val_accuracy: 0.6250\n",
      "Epoch 37/200\n",
      "8/8 [==============================] - 0s 8ms/step - loss: -0.0886 - accuracy: 0.6575 - val_loss: -0.0838 - val_accuracy: 0.6250\n",
      "Epoch 38/200\n",
      "8/8 [==============================] - 0s 8ms/step - loss: -0.0923 - accuracy: 0.6575 - val_loss: -0.0879 - val_accuracy: 0.6250\n",
      "Epoch 39/200\n",
      "8/8 [==============================] - 0s 9ms/step - loss: -0.0957 - accuracy: 0.6575 - val_loss: -0.0921 - val_accuracy: 0.6250\n",
      "Epoch 40/200\n",
      "8/8 [==============================] - 0s 8ms/step - loss: -0.0995 - accuracy: 0.6575 - val_loss: -0.0961 - val_accuracy: 0.6250\n",
      "Epoch 41/200\n",
      "8/8 [==============================] - 0s 8ms/step - loss: -0.1031 - accuracy: 0.6575 - val_loss: -0.0999 - val_accuracy: 0.6250\n",
      "Epoch 42/200\n",
      "8/8 [==============================] - 0s 8ms/step - loss: -0.1065 - accuracy: 0.6575 - val_loss: -0.1040 - val_accuracy: 0.6250\n",
      "Epoch 43/200\n",
      "8/8 [==============================] - 0s 8ms/step - loss: -0.1102 - accuracy: 0.6575 - val_loss: -0.1078 - val_accuracy: 0.6250\n",
      "Epoch 44/200\n",
      "8/8 [==============================] - 0s 8ms/step - loss: -0.1137 - accuracy: 0.6575 - val_loss: -0.1118 - val_accuracy: 0.6250\n",
      "Epoch 45/200\n",
      "8/8 [==============================] - 0s 8ms/step - loss: -0.1173 - accuracy: 0.6575 - val_loss: -0.1158 - val_accuracy: 0.6250\n",
      "Epoch 46/200\n",
      "8/8 [==============================] - 0s 7ms/step - loss: -0.1207 - accuracy: 0.6575 - val_loss: -0.1199 - val_accuracy: 0.6250\n",
      "Epoch 47/200\n",
      "8/8 [==============================] - 0s 7ms/step - loss: -0.1243 - accuracy: 0.6575 - val_loss: -0.1238 - val_accuracy: 0.6250\n",
      "Epoch 48/200\n",
      "8/8 [==============================] - 0s 7ms/step - loss: -0.1279 - accuracy: 0.6575 - val_loss: -0.1277 - val_accuracy: 0.6250\n",
      "Epoch 49/200\n",
      "8/8 [==============================] - 0s 8ms/step - loss: -0.1316 - accuracy: 0.6575 - val_loss: -0.1317 - val_accuracy: 0.6250\n",
      "Epoch 50/200\n",
      "8/8 [==============================] - 0s 8ms/step - loss: -0.1348 - accuracy: 0.6575 - val_loss: -0.1356 - val_accuracy: 0.6250\n",
      "Epoch 51/200\n",
      "8/8 [==============================] - 0s 8ms/step - loss: -0.1383 - accuracy: 0.6575 - val_loss: -0.1394 - val_accuracy: 0.6250\n",
      "Epoch 52/200\n",
      "8/8 [==============================] - 0s 7ms/step - loss: -0.1419 - accuracy: 0.6575 - val_loss: -0.1432 - val_accuracy: 0.6250\n",
      "Epoch 53/200\n",
      "8/8 [==============================] - 0s 8ms/step - loss: -0.1452 - accuracy: 0.6575 - val_loss: -0.1471 - val_accuracy: 0.6250\n",
      "Epoch 54/200\n",
      "8/8 [==============================] - 0s 8ms/step - loss: -0.1487 - accuracy: 0.6575 - val_loss: -0.1510 - val_accuracy: 0.6250\n",
      "Epoch 55/200\n",
      "8/8 [==============================] - 0s 7ms/step - loss: -0.1522 - accuracy: 0.6575 - val_loss: -0.1549 - val_accuracy: 0.6250\n",
      "Epoch 56/200\n",
      "8/8 [==============================] - 0s 8ms/step - loss: -0.1556 - accuracy: 0.6575 - val_loss: -0.1590 - val_accuracy: 0.6250\n",
      "Epoch 57/200\n",
      "8/8 [==============================] - 0s 7ms/step - loss: -0.1593 - accuracy: 0.6575 - val_loss: -0.1628 - val_accuracy: 0.6250\n",
      "Epoch 58/200\n",
      "8/8 [==============================] - 0s 7ms/step - loss: -0.1627 - accuracy: 0.6575 - val_loss: -0.1667 - val_accuracy: 0.6250\n"
     ]
    },
    {
     "name": "stdout",
     "output_type": "stream",
     "text": [
      "Epoch 59/200\n",
      "8/8 [==============================] - 0s 8ms/step - loss: -0.1661 - accuracy: 0.6575 - val_loss: -0.1705 - val_accuracy: 0.6250\n",
      "Epoch 60/200\n",
      "8/8 [==============================] - 0s 7ms/step - loss: -0.1694 - accuracy: 0.6575 - val_loss: -0.1742 - val_accuracy: 0.6250\n",
      "Epoch 61/200\n",
      "8/8 [==============================] - 0s 8ms/step - loss: -0.1728 - accuracy: 0.6575 - val_loss: -0.1778 - val_accuracy: 0.6250\n",
      "Epoch 62/200\n",
      "8/8 [==============================] - 0s 7ms/step - loss: -0.1759 - accuracy: 0.6575 - val_loss: -0.1814 - val_accuracy: 0.6250\n",
      "Epoch 63/200\n",
      "8/8 [==============================] - 0s 8ms/step - loss: -0.1792 - accuracy: 0.6575 - val_loss: -0.1849 - val_accuracy: 0.6250\n",
      "Epoch 64/200\n",
      "8/8 [==============================] - 0s 7ms/step - loss: -0.1823 - accuracy: 0.6575 - val_loss: -0.1886 - val_accuracy: 0.6250\n",
      "Epoch 65/200\n",
      "8/8 [==============================] - 0s 7ms/step - loss: -0.1856 - accuracy: 0.6575 - val_loss: -0.1921 - val_accuracy: 0.6250\n",
      "Epoch 66/200\n",
      "8/8 [==============================] - 0s 9ms/step - loss: -0.1889 - accuracy: 0.6575 - val_loss: -0.1957 - val_accuracy: 0.6250\n",
      "Epoch 67/200\n",
      "8/8 [==============================] - 0s 7ms/step - loss: -0.1921 - accuracy: 0.6575 - val_loss: -0.1994 - val_accuracy: 0.6250\n",
      "Epoch 68/200\n",
      "8/8 [==============================] - 0s 8ms/step - loss: -0.1954 - accuracy: 0.6575 - val_loss: -0.2028 - val_accuracy: 0.6250\n",
      "Epoch 69/200\n",
      "8/8 [==============================] - 0s 7ms/step - loss: -0.1984 - accuracy: 0.6575 - val_loss: -0.2065 - val_accuracy: 0.6250\n",
      "Epoch 70/200\n",
      "8/8 [==============================] - 0s 7ms/step - loss: -0.2019 - accuracy: 0.6575 - val_loss: -0.2102 - val_accuracy: 0.6250\n",
      "Epoch 71/200\n",
      "8/8 [==============================] - 0s 7ms/step - loss: -0.2052 - accuracy: 0.6575 - val_loss: -0.2140 - val_accuracy: 0.6250\n",
      "Epoch 72/200\n",
      "8/8 [==============================] - 0s 7ms/step - loss: -0.2084 - accuracy: 0.6575 - val_loss: -0.2177 - val_accuracy: 0.6250\n",
      "Epoch 73/200\n",
      "8/8 [==============================] - 0s 8ms/step - loss: -0.2117 - accuracy: 0.6575 - val_loss: -0.2213 - val_accuracy: 0.6250\n",
      "Epoch 74/200\n",
      "8/8 [==============================] - 0s 8ms/step - loss: -0.2150 - accuracy: 0.6575 - val_loss: -0.2251 - val_accuracy: 0.6250\n",
      "Epoch 75/200\n",
      "8/8 [==============================] - 0s 8ms/step - loss: -0.2182 - accuracy: 0.6575 - val_loss: -0.2289 - val_accuracy: 0.6250\n",
      "Epoch 76/200\n",
      "8/8 [==============================] - 0s 8ms/step - loss: -0.2218 - accuracy: 0.6575 - val_loss: -0.2323 - val_accuracy: 0.6250\n",
      "Epoch 77/200\n",
      "8/8 [==============================] - 0s 7ms/step - loss: -0.2248 - accuracy: 0.6575 - val_loss: -0.2360 - val_accuracy: 0.6250\n",
      "Epoch 78/200\n",
      "8/8 [==============================] - 0s 7ms/step - loss: -0.2282 - accuracy: 0.6575 - val_loss: -0.2395 - val_accuracy: 0.6250\n",
      "Epoch 79/200\n",
      "8/8 [==============================] - 0s 7ms/step - loss: -0.2313 - accuracy: 0.6575 - val_loss: -0.2433 - val_accuracy: 0.6250\n",
      "Epoch 80/200\n",
      "8/8 [==============================] - 0s 7ms/step - loss: -0.2345 - accuracy: 0.6575 - val_loss: -0.2470 - val_accuracy: 0.6250\n",
      "Epoch 81/200\n",
      "8/8 [==============================] - 0s 9ms/step - loss: -0.2380 - accuracy: 0.6575 - val_loss: -0.2504 - val_accuracy: 0.6250\n",
      "Epoch 82/200\n",
      "8/8 [==============================] - 0s 7ms/step - loss: -0.2411 - accuracy: 0.6575 - val_loss: -0.2540 - val_accuracy: 0.6250\n",
      "Epoch 83/200\n",
      "8/8 [==============================] - 0s 7ms/step - loss: -0.2443 - accuracy: 0.6575 - val_loss: -0.2576 - val_accuracy: 0.6250\n",
      "Epoch 84/200\n",
      "8/8 [==============================] - 0s 7ms/step - loss: -0.2476 - accuracy: 0.6575 - val_loss: -0.2612 - val_accuracy: 0.6250\n",
      "Epoch 85/200\n",
      "8/8 [==============================] - 0s 8ms/step - loss: -0.2506 - accuracy: 0.6575 - val_loss: -0.2649 - val_accuracy: 0.6250\n",
      "Epoch 86/200\n",
      "8/8 [==============================] - 0s 7ms/step - loss: -0.2541 - accuracy: 0.6575 - val_loss: -0.2685 - val_accuracy: 0.6250\n",
      "Epoch 87/200\n",
      "8/8 [==============================] - 0s 7ms/step - loss: -0.2573 - accuracy: 0.6575 - val_loss: -0.2720 - val_accuracy: 0.6250\n",
      "Epoch 88/200\n",
      "8/8 [==============================] - 0s 7ms/step - loss: -0.2604 - accuracy: 0.6575 - val_loss: -0.2756 - val_accuracy: 0.6250\n",
      "Epoch 89/200\n",
      "8/8 [==============================] - 0s 8ms/step - loss: -0.2636 - accuracy: 0.6575 - val_loss: -0.2792 - val_accuracy: 0.6250\n",
      "Epoch 90/200\n",
      "8/8 [==============================] - 0s 8ms/step - loss: -0.2667 - accuracy: 0.6575 - val_loss: -0.2827 - val_accuracy: 0.6250\n",
      "Epoch 91/200\n",
      "8/8 [==============================] - 0s 8ms/step - loss: -0.2698 - accuracy: 0.6575 - val_loss: -0.2861 - val_accuracy: 0.6250\n",
      "Epoch 92/200\n",
      "8/8 [==============================] - 0s 8ms/step - loss: -0.2729 - accuracy: 0.6575 - val_loss: -0.2896 - val_accuracy: 0.6250\n",
      "Epoch 93/200\n",
      "8/8 [==============================] - 0s 7ms/step - loss: -0.2760 - accuracy: 0.6575 - val_loss: -0.2933 - val_accuracy: 0.6250\n",
      "Epoch 94/200\n",
      "8/8 [==============================] - 0s 8ms/step - loss: -0.2795 - accuracy: 0.6575 - val_loss: -0.2968 - val_accuracy: 0.6250\n",
      "Epoch 95/200\n",
      "8/8 [==============================] - 0s 7ms/step - loss: -0.2826 - accuracy: 0.6575 - val_loss: -0.3003 - val_accuracy: 0.6250\n",
      "Epoch 96/200\n",
      "8/8 [==============================] - 0s 6ms/step - loss: -0.2856 - accuracy: 0.6575 - val_loss: -0.3037 - val_accuracy: 0.6250\n",
      "Epoch 97/200\n",
      "8/8 [==============================] - 0s 9ms/step - loss: -0.2886 - accuracy: 0.6575 - val_loss: -0.3071 - val_accuracy: 0.6250\n",
      "Epoch 98/200\n",
      "8/8 [==============================] - 0s 6ms/step - loss: -0.2918 - accuracy: 0.6575 - val_loss: -0.3103 - val_accuracy: 0.6250\n",
      "Epoch 99/200\n",
      "8/8 [==============================] - 0s 8ms/step - loss: -0.2949 - accuracy: 0.6575 - val_loss: -0.3138 - val_accuracy: 0.6250\n",
      "Epoch 100/200\n",
      "8/8 [==============================] - 0s 7ms/step - loss: -0.2978 - accuracy: 0.6575 - val_loss: -0.3174 - val_accuracy: 0.6250\n",
      "Epoch 101/200\n",
      "8/8 [==============================] - 0s 8ms/step - loss: -0.3011 - accuracy: 0.6575 - val_loss: -0.3211 - val_accuracy: 0.6250\n",
      "Epoch 102/200\n",
      "8/8 [==============================] - 0s 8ms/step - loss: -0.3042 - accuracy: 0.6575 - val_loss: -0.3246 - val_accuracy: 0.6250\n",
      "Epoch 103/200\n",
      "8/8 [==============================] - 0s 7ms/step - loss: -0.3074 - accuracy: 0.6575 - val_loss: -0.3279 - val_accuracy: 0.6250\n",
      "Epoch 104/200\n",
      "8/8 [==============================] - 0s 8ms/step - loss: -0.3104 - accuracy: 0.6575 - val_loss: -0.3313 - val_accuracy: 0.6250\n",
      "Epoch 105/200\n",
      "8/8 [==============================] - 0s 8ms/step - loss: -0.3136 - accuracy: 0.6575 - val_loss: -0.3347 - val_accuracy: 0.6250\n",
      "Epoch 106/200\n",
      "8/8 [==============================] - 0s 7ms/step - loss: -0.3166 - accuracy: 0.6575 - val_loss: -0.3383 - val_accuracy: 0.6250\n",
      "Epoch 107/200\n",
      "8/8 [==============================] - 0s 7ms/step - loss: -0.3198 - accuracy: 0.6575 - val_loss: -0.3420 - val_accuracy: 0.6250\n",
      "Epoch 108/200\n",
      "8/8 [==============================] - 0s 8ms/step - loss: -0.3230 - accuracy: 0.6575 - val_loss: -0.3457 - val_accuracy: 0.6250\n",
      "Epoch 109/200\n",
      "8/8 [==============================] - 0s 8ms/step - loss: -0.3265 - accuracy: 0.6575 - val_loss: -0.3492 - val_accuracy: 0.6250\n",
      "Epoch 110/200\n",
      "8/8 [==============================] - 0s 7ms/step - loss: -0.3295 - accuracy: 0.6575 - val_loss: -0.3526 - val_accuracy: 0.6250\n",
      "Epoch 111/200\n",
      "8/8 [==============================] - 0s 8ms/step - loss: -0.3325 - accuracy: 0.6575 - val_loss: -0.3560 - val_accuracy: 0.6250\n",
      "Epoch 112/200\n",
      "8/8 [==============================] - 0s 8ms/step - loss: -0.3357 - accuracy: 0.6575 - val_loss: -0.3592 - val_accuracy: 0.6250\n",
      "Epoch 113/200\n",
      "8/8 [==============================] - 0s 8ms/step - loss: -0.3384 - accuracy: 0.6575 - val_loss: -0.3626 - val_accuracy: 0.6250\n",
      "Epoch 114/200\n",
      "8/8 [==============================] - 0s 8ms/step - loss: -0.3415 - accuracy: 0.6575 - val_loss: -0.3660 - val_accuracy: 0.6250\n",
      "Epoch 115/200\n",
      "8/8 [==============================] - 0s 8ms/step - loss: -0.3445 - accuracy: 0.6575 - val_loss: -0.3694 - val_accuracy: 0.6250\n",
      "Epoch 116/200\n"
     ]
    },
    {
     "name": "stdout",
     "output_type": "stream",
     "text": [
      "8/8 [==============================] - 0s 8ms/step - loss: -0.3476 - accuracy: 0.6575 - val_loss: -0.3726 - val_accuracy: 0.6250\n",
      "Epoch 117/200\n",
      "8/8 [==============================] - 0s 8ms/step - loss: -0.3506 - accuracy: 0.6575 - val_loss: -0.3761 - val_accuracy: 0.6250\n",
      "Epoch 118/200\n",
      "8/8 [==============================] - 0s 8ms/step - loss: -0.3537 - accuracy: 0.6575 - val_loss: -0.3793 - val_accuracy: 0.6250\n",
      "Epoch 119/200\n",
      "8/8 [==============================] - 0s 7ms/step - loss: -0.3564 - accuracy: 0.6575 - val_loss: -0.3828 - val_accuracy: 0.6250\n",
      "Epoch 120/200\n",
      "8/8 [==============================] - 0s 7ms/step - loss: -0.3595 - accuracy: 0.6575 - val_loss: -0.3860 - val_accuracy: 0.6250\n",
      "Epoch 121/200\n",
      "8/8 [==============================] - 0s 9ms/step - loss: -0.3625 - accuracy: 0.6575 - val_loss: -0.3891 - val_accuracy: 0.6250\n",
      "Epoch 122/200\n",
      "8/8 [==============================] - 0s 7ms/step - loss: -0.3655 - accuracy: 0.6575 - val_loss: -0.3925 - val_accuracy: 0.6250\n",
      "Epoch 123/200\n",
      "8/8 [==============================] - 0s 8ms/step - loss: -0.3685 - accuracy: 0.6575 - val_loss: -0.3960 - val_accuracy: 0.6250\n",
      "Epoch 124/200\n",
      "8/8 [==============================] - 0s 8ms/step - loss: -0.3717 - accuracy: 0.6575 - val_loss: -0.3993 - val_accuracy: 0.6250\n",
      "Epoch 125/200\n",
      "8/8 [==============================] - 0s 8ms/step - loss: -0.3747 - accuracy: 0.6575 - val_loss: -0.4030 - val_accuracy: 0.6250\n",
      "Epoch 126/200\n",
      "8/8 [==============================] - 0s 8ms/step - loss: -0.3779 - accuracy: 0.6575 - val_loss: -0.4063 - val_accuracy: 0.6250\n",
      "Epoch 127/200\n",
      "8/8 [==============================] - 0s 7ms/step - loss: -0.3809 - accuracy: 0.6575 - val_loss: -0.4097 - val_accuracy: 0.6250\n",
      "Epoch 128/200\n",
      "8/8 [==============================] - 0s 7ms/step - loss: -0.3837 - accuracy: 0.6575 - val_loss: -0.4130 - val_accuracy: 0.6250\n",
      "Epoch 129/200\n",
      "8/8 [==============================] - 0s 8ms/step - loss: -0.3868 - accuracy: 0.6575 - val_loss: -0.4161 - val_accuracy: 0.6250\n",
      "Epoch 130/200\n",
      "8/8 [==============================] - 0s 7ms/step - loss: -0.3896 - accuracy: 0.6575 - val_loss: -0.4195 - val_accuracy: 0.6250\n",
      "Epoch 131/200\n",
      "8/8 [==============================] - 0s 8ms/step - loss: -0.3927 - accuracy: 0.6575 - val_loss: -0.4229 - val_accuracy: 0.6250\n",
      "Epoch 132/200\n",
      "8/8 [==============================] - 0s 8ms/step - loss: -0.3957 - accuracy: 0.6575 - val_loss: -0.4264 - val_accuracy: 0.6250\n",
      "Epoch 133/200\n",
      "8/8 [==============================] - 0s 8ms/step - loss: -0.3988 - accuracy: 0.6575 - val_loss: -0.4296 - val_accuracy: 0.6250\n",
      "Epoch 134/200\n",
      "8/8 [==============================] - 0s 7ms/step - loss: -0.4017 - accuracy: 0.6575 - val_loss: -0.4329 - val_accuracy: 0.6250\n",
      "Epoch 135/200\n",
      "8/8 [==============================] - 0s 7ms/step - loss: -0.4046 - accuracy: 0.6575 - val_loss: -0.4362 - val_accuracy: 0.6250\n",
      "Epoch 136/200\n",
      "8/8 [==============================] - 0s 8ms/step - loss: -0.4076 - accuracy: 0.6575 - val_loss: -0.4394 - val_accuracy: 0.6250\n",
      "Epoch 137/200\n",
      "8/8 [==============================] - 0s 7ms/step - loss: -0.4105 - accuracy: 0.6575 - val_loss: -0.4427 - val_accuracy: 0.6250\n",
      "Epoch 138/200\n",
      "8/8 [==============================] - 0s 7ms/step - loss: -0.4135 - accuracy: 0.6575 - val_loss: -0.4461 - val_accuracy: 0.6250\n",
      "Epoch 139/200\n",
      "8/8 [==============================] - 0s 8ms/step - loss: -0.4166 - accuracy: 0.6575 - val_loss: -0.4495 - val_accuracy: 0.6250\n",
      "Epoch 140/200\n",
      "8/8 [==============================] - 0s 7ms/step - loss: -0.4197 - accuracy: 0.6575 - val_loss: -0.4530 - val_accuracy: 0.6250\n",
      "Epoch 141/200\n",
      "8/8 [==============================] - 0s 8ms/step - loss: -0.4227 - accuracy: 0.6575 - val_loss: -0.4565 - val_accuracy: 0.6250\n",
      "Epoch 142/200\n",
      "8/8 [==============================] - 0s 7ms/step - loss: -0.4259 - accuracy: 0.6575 - val_loss: -0.4597 - val_accuracy: 0.6250\n",
      "Epoch 143/200\n",
      "8/8 [==============================] - 0s 7ms/step - loss: -0.4288 - accuracy: 0.6575 - val_loss: -0.4629 - val_accuracy: 0.6250\n",
      "Epoch 144/200\n",
      "8/8 [==============================] - 0s 7ms/step - loss: -0.4316 - accuracy: 0.6575 - val_loss: -0.4663 - val_accuracy: 0.6250\n",
      "Epoch 145/200\n",
      "8/8 [==============================] - 0s 9ms/step - loss: -0.4347 - accuracy: 0.6575 - val_loss: -0.4697 - val_accuracy: 0.6250\n",
      "Epoch 146/200\n",
      "8/8 [==============================] - 0s 7ms/step - loss: -0.4379 - accuracy: 0.6575 - val_loss: -0.4731 - val_accuracy: 0.6250\n",
      "Epoch 147/200\n",
      "8/8 [==============================] - 0s 8ms/step - loss: -0.4408 - accuracy: 0.6575 - val_loss: -0.4764 - val_accuracy: 0.6250\n",
      "Epoch 148/200\n",
      "8/8 [==============================] - 0s 7ms/step - loss: -0.4437 - accuracy: 0.6575 - val_loss: -0.4796 - val_accuracy: 0.6250\n",
      "Epoch 149/200\n",
      "8/8 [==============================] - 0s 7ms/step - loss: -0.4467 - accuracy: 0.6575 - val_loss: -0.4826 - val_accuracy: 0.6250\n",
      "Epoch 150/200\n",
      "8/8 [==============================] - 0s 7ms/step - loss: -0.4493 - accuracy: 0.6575 - val_loss: -0.4859 - val_accuracy: 0.6250\n",
      "Epoch 151/200\n",
      "8/8 [==============================] - 0s 6ms/step - loss: -0.4523 - accuracy: 0.6575 - val_loss: -0.4892 - val_accuracy: 0.6250\n",
      "Epoch 152/200\n",
      "8/8 [==============================] - 0s 8ms/step - loss: -0.4553 - accuracy: 0.6575 - val_loss: -0.4923 - val_accuracy: 0.6250\n",
      "Epoch 153/200\n",
      "8/8 [==============================] - 0s 9ms/step - loss: -0.4581 - accuracy: 0.6575 - val_loss: -0.4956 - val_accuracy: 0.6250\n",
      "Epoch 154/200\n",
      "8/8 [==============================] - 0s 7ms/step - loss: -0.4609 - accuracy: 0.6575 - val_loss: -0.4988 - val_accuracy: 0.6250\n",
      "Epoch 155/200\n",
      "8/8 [==============================] - 0s 7ms/step - loss: -0.4638 - accuracy: 0.6575 - val_loss: -0.5019 - val_accuracy: 0.6250\n",
      "Epoch 156/200\n",
      "8/8 [==============================] - 0s 6ms/step - loss: -0.4666 - accuracy: 0.6575 - val_loss: -0.5049 - val_accuracy: 0.6250\n",
      "Epoch 157/200\n",
      "8/8 [==============================] - 0s 6ms/step - loss: -0.4692 - accuracy: 0.6575 - val_loss: -0.5079 - val_accuracy: 0.6250\n",
      "Epoch 158/200\n",
      "8/8 [==============================] - 0s 6ms/step - loss: -0.4721 - accuracy: 0.6575 - val_loss: -0.5109 - val_accuracy: 0.6250\n",
      "Epoch 159/200\n",
      "8/8 [==============================] - 0s 7ms/step - loss: -0.4746 - accuracy: 0.6575 - val_loss: -0.5140 - val_accuracy: 0.6250\n",
      "Epoch 160/200\n",
      "8/8 [==============================] - 0s 6ms/step - loss: -0.4775 - accuracy: 0.6575 - val_loss: -0.5171 - val_accuracy: 0.6250\n",
      "Epoch 161/200\n",
      "8/8 [==============================] - 0s 5ms/step - loss: -0.4803 - accuracy: 0.6575 - val_loss: -0.5200 - val_accuracy: 0.6250\n",
      "Epoch 162/200\n",
      "8/8 [==============================] - 0s 6ms/step - loss: -0.4830 - accuracy: 0.6575 - val_loss: -0.5233 - val_accuracy: 0.6250\n",
      "Epoch 163/200\n",
      "8/8 [==============================] - 0s 6ms/step - loss: -0.4861 - accuracy: 0.6575 - val_loss: -0.5265 - val_accuracy: 0.6250\n",
      "Epoch 164/200\n",
      "8/8 [==============================] - 0s 6ms/step - loss: -0.4889 - accuracy: 0.6575 - val_loss: -0.5298 - val_accuracy: 0.6250\n",
      "Epoch 165/200\n",
      "8/8 [==============================] - 0s 7ms/step - loss: -0.4918 - accuracy: 0.6575 - val_loss: -0.5329 - val_accuracy: 0.6250\n",
      "Epoch 166/200\n",
      "8/8 [==============================] - 0s 7ms/step - loss: -0.4948 - accuracy: 0.6575 - val_loss: -0.5361 - val_accuracy: 0.6250\n",
      "Epoch 167/200\n",
      "8/8 [==============================] - 0s 6ms/step - loss: -0.4975 - accuracy: 0.6575 - val_loss: -0.5395 - val_accuracy: 0.6250\n",
      "Epoch 168/200\n",
      "8/8 [==============================] - 0s 6ms/step - loss: -0.5005 - accuracy: 0.6575 - val_loss: -0.5429 - val_accuracy: 0.6250\n",
      "Epoch 169/200\n",
      "8/8 [==============================] - 0s 5ms/step - loss: -0.5037 - accuracy: 0.6575 - val_loss: -0.5460 - val_accuracy: 0.6250\n",
      "Epoch 170/200\n",
      "8/8 [==============================] - 0s 5ms/step - loss: -0.5065 - accuracy: 0.6575 - val_loss: -0.5493 - val_accuracy: 0.6250\n",
      "Epoch 171/200\n",
      "8/8 [==============================] - 0s 7ms/step - loss: -0.5094 - accuracy: 0.6575 - val_loss: -0.5525 - val_accuracy: 0.6250\n",
      "Epoch 172/200\n",
      "8/8 [==============================] - 0s 6ms/step - loss: -0.5123 - accuracy: 0.6575 - val_loss: -0.5558 - val_accuracy: 0.6250\n",
      "Epoch 173/200\n"
     ]
    },
    {
     "name": "stdout",
     "output_type": "stream",
     "text": [
      "8/8 [==============================] - 0s 7ms/step - loss: -0.5152 - accuracy: 0.6575 - val_loss: -0.5589 - val_accuracy: 0.6250\n",
      "Epoch 174/200\n",
      "8/8 [==============================] - 0s 7ms/step - loss: -0.5179 - accuracy: 0.6575 - val_loss: -0.5621 - val_accuracy: 0.6250\n",
      "Epoch 175/200\n",
      "8/8 [==============================] - 0s 6ms/step - loss: -0.5209 - accuracy: 0.6575 - val_loss: -0.5652 - val_accuracy: 0.6250\n",
      "Epoch 176/200\n",
      "8/8 [==============================] - 0s 7ms/step - loss: -0.5238 - accuracy: 0.6575 - val_loss: -0.5684 - val_accuracy: 0.6250\n",
      "Epoch 177/200\n",
      "8/8 [==============================] - 0s 7ms/step - loss: -0.5265 - accuracy: 0.6575 - val_loss: -0.5717 - val_accuracy: 0.6250\n",
      "Epoch 178/200\n",
      "8/8 [==============================] - 0s 6ms/step - loss: -0.5296 - accuracy: 0.6575 - val_loss: -0.5747 - val_accuracy: 0.6250\n",
      "Epoch 179/200\n",
      "8/8 [==============================] - 0s 6ms/step - loss: -0.5323 - accuracy: 0.6575 - val_loss: -0.5777 - val_accuracy: 0.6250\n",
      "Epoch 180/200\n",
      "8/8 [==============================] - 0s 6ms/step - loss: -0.5350 - accuracy: 0.6575 - val_loss: -0.5809 - val_accuracy: 0.6250\n",
      "Epoch 181/200\n",
      "8/8 [==============================] - 0s 5ms/step - loss: -0.5378 - accuracy: 0.6575 - val_loss: -0.5841 - val_accuracy: 0.6250\n",
      "Epoch 182/200\n",
      "8/8 [==============================] - 0s 6ms/step - loss: -0.5407 - accuracy: 0.6575 - val_loss: -0.5870 - val_accuracy: 0.6250\n",
      "Epoch 183/200\n",
      "8/8 [==============================] - 0s 6ms/step - loss: -0.5433 - accuracy: 0.6575 - val_loss: -0.5901 - val_accuracy: 0.6250\n",
      "Epoch 184/200\n",
      "8/8 [==============================] - 0s 5ms/step - loss: -0.5462 - accuracy: 0.6575 - val_loss: -0.5931 - val_accuracy: 0.6250\n",
      "Epoch 185/200\n",
      "8/8 [==============================] - 0s 6ms/step - loss: -0.5489 - accuracy: 0.6575 - val_loss: -0.5964 - val_accuracy: 0.6250\n",
      "Epoch 186/200\n",
      "8/8 [==============================] - 0s 6ms/step - loss: -0.5519 - accuracy: 0.6575 - val_loss: -0.5996 - val_accuracy: 0.6250\n",
      "Epoch 187/200\n",
      "8/8 [==============================] - 0s 6ms/step - loss: -0.5547 - accuracy: 0.6575 - val_loss: -0.6028 - val_accuracy: 0.6250\n",
      "Epoch 188/200\n",
      "8/8 [==============================] - 0s 5ms/step - loss: -0.5577 - accuracy: 0.6575 - val_loss: -0.6059 - val_accuracy: 0.6250\n",
      "Epoch 189/200\n",
      "8/8 [==============================] - 0s 5ms/step - loss: -0.5603 - accuracy: 0.6575 - val_loss: -0.6090 - val_accuracy: 0.6250\n",
      "Epoch 190/200\n",
      "8/8 [==============================] - 0s 5ms/step - loss: -0.5630 - accuracy: 0.6575 - val_loss: -0.6120 - val_accuracy: 0.6250\n",
      "Epoch 191/200\n",
      "8/8 [==============================] - 0s 6ms/step - loss: -0.5657 - accuracy: 0.6575 - val_loss: -0.6150 - val_accuracy: 0.6250\n",
      "Epoch 192/200\n",
      "8/8 [==============================] - 0s 5ms/step - loss: -0.5685 - accuracy: 0.6575 - val_loss: -0.6180 - val_accuracy: 0.6250\n",
      "Epoch 193/200\n",
      "8/8 [==============================] - 0s 6ms/step - loss: -0.5712 - accuracy: 0.6575 - val_loss: -0.6209 - val_accuracy: 0.6250\n",
      "Epoch 194/200\n",
      "8/8 [==============================] - 0s 6ms/step - loss: -0.5737 - accuracy: 0.6575 - val_loss: -0.6240 - val_accuracy: 0.6250\n",
      "Epoch 195/200\n",
      "8/8 [==============================] - 0s 5ms/step - loss: -0.5766 - accuracy: 0.6575 - val_loss: -0.6269 - val_accuracy: 0.6250\n",
      "Epoch 196/200\n",
      "8/8 [==============================] - 0s 5ms/step - loss: -0.5793 - accuracy: 0.6575 - val_loss: -0.6298 - val_accuracy: 0.6250\n",
      "Epoch 197/200\n",
      "8/8 [==============================] - 0s 6ms/step - loss: -0.5819 - accuracy: 0.6575 - val_loss: -0.6327 - val_accuracy: 0.6250\n",
      "Epoch 198/200\n",
      "8/8 [==============================] - 0s 5ms/step - loss: -0.5845 - accuracy: 0.6575 - val_loss: -0.6357 - val_accuracy: 0.6250\n",
      "Epoch 199/200\n",
      "8/8 [==============================] - 0s 6ms/step - loss: -0.5873 - accuracy: 0.6575 - val_loss: -0.6385 - val_accuracy: 0.6250\n",
      "Epoch 200/200\n",
      "8/8 [==============================] - 0s 6ms/step - loss: -0.5898 - accuracy: 0.6575 - val_loss: -0.6415 - val_accuracy: 0.6250\n"
     ]
    }
   ],
   "source": [
    "model_history= cl.fit(X_train,y_train, validation_split= 0.3,batch_size= 10, epochs= 200)"
   ]
  },
  {
   "cell_type": "code",
   "execution_count": 27,
   "id": "5d69dfd3",
   "metadata": {},
   "outputs": [
    {
     "name": "stdout",
     "output_type": "stream",
     "text": [
      "dict_keys(['loss', 'accuracy', 'val_loss', 'val_accuracy'])\n"
     ]
    }
   ],
   "source": [
    "print(model_history.history.keys())"
   ]
  },
  {
   "cell_type": "code",
   "execution_count": 28,
   "id": "a2f19a5e",
   "metadata": {},
   "outputs": [
    {
     "data": {
      "image/png": "[encoded data removed]",
      "text/plain": [
       "<Figure size 640x480 with 1 Axes>"
      ]
     },
     "metadata": {},
     "output_type": "display_data"
    }
   ],
   "source": [
    "plt.plot(model_history.history['accuracy'])\n",
    "plt.plot(model_history.history['val_accuracy'])\n",
    "plt.title('model_accuracy')\n",
    "plt.ylabel('accuracy')\n",
    "plt.xlabel('epochs')\n",
    "\n",
    "plt.legend(['train','test'],loc= 'upper left')\n",
    "plt.show()"
   ]
  },
  {
   "cell_type": "code",
   "execution_count": 29,
   "id": "381df0fa",
   "metadata": {},
   "outputs": [
    {
     "data": {
      "image/png": "[encoded data removed]",
      "text/plain": [
       "<Figure size 640x480 with 1 Axes>"
      ]
     },
     "metadata": {},
     "output_type": "display_data"
    }
   ],
   "source": [
    "plt.plot(model_history.history['loss'])\n",
    "plt.plot(model_history.history['val_loss'])\n",
    "plt.title('model_loss')\n",
    "plt.ylabel('loss')\n",
    "plt.xlabel('epochs')\n",
    "\n",
    "plt.legend(['train','test'],loc= 'upper left')\n",
    "plt.show()"
   ]
  },
  {
   "cell_type": "code",
   "execution_count": 30,
   "id": "9ccc394b",
   "metadata": {},
   "outputs": [
    {
     "name": "stdout",
     "output_type": "stream",
     "text": [
      "2/2 [==============================] - 0s 3ms/step\n"
     ]
    },
    {
     "data": {
      "text/plain": [
       "array([[ True],\n",
       "       [False],\n",
       "       [ True],\n",
       "       [ True],\n",
       "       [ True],\n",
       "       [False],\n",
       "       [ True],\n",
       "       [ True],\n",
       "       [ True],\n",
       "       [ True],\n",
       "       [ True],\n",
       "       [False],\n",
       "       [False],\n",
       "       [False],\n",
       "       [False],\n",
       "       [ True],\n",
       "       [ True],\n",
       "       [ True],\n",
       "       [ True],\n",
       "       [ True],\n",
       "       [False],\n",
       "       [ True],\n",
       "       [False],\n",
       "       [ True],\n",
       "       [ True],\n",
       "       [ True],\n",
       "       [ True],\n",
       "       [ True],\n",
       "       [False],\n",
       "       [False],\n",
       "       [False],\n",
       "       [False],\n",
       "       [ True],\n",
       "       [False],\n",
       "       [False],\n",
       "       [ True],\n",
       "       [ True],\n",
       "       [False],\n",
       "       [False],\n",
       "       [False],\n",
       "       [ True],\n",
       "       [ True],\n",
       "       [ True],\n",
       "       [False],\n",
       "       [False]])"
      ]
     },
     "execution_count": 30,
     "metadata": {},
     "output_type": "execute_result"
    }
   ],
   "source": [
    "y_pred= cl.predict(X_test)\n",
    "y_pred = (y_pred > 0.5)\n",
    "y_pred"
   ]
  },
  {
   "cell_type": "code",
   "execution_count": 31,
   "id": "8c29fed7",
   "metadata": {},
   "outputs": [
    {
     "data": {
      "text/plain": [
       "array([[19,  0,  0],\n",
       "       [ 0, 13, 13],\n",
       "       [ 0,  0,  0]], dtype=int64)"
      ]
     },
     "execution_count": 31,
     "metadata": {},
     "output_type": "execute_result"
    }
   ],
   "source": [
    "cm= confusion_matrix(y_pred,y_test)\n",
    "cm"
   ]
  },
  {
   "cell_type": "code",
   "execution_count": 32,
   "id": "34a03591",
   "metadata": {},
   "outputs": [
    {
     "data": {
      "text/plain": [
       "0.7111111111111111"
      ]
     },
     "execution_count": 32,
     "metadata": {},
     "output_type": "execute_result"
    }
   ],
   "source": [
    "score= accuracy_score(y_pred,y_test)\n",
    "score"
   ]
  },
  {
   "cell_type": "code",
   "execution_count": null,
   "id": "b43032b3",
   "metadata": {},
   "outputs": [],
   "source": []
  }
 ],
 "metadata": {
  "kernelspec": {
   "display_name": "Python 3 (ipykernel)",
   "language": "python",
   "name": "python3"
  },
  "language_info": {
   "codemirror_mode": {
    "name": "ipython",
    "version": 3
   },
   "file_extension": ".py",
   "mimetype": "text/x-python",
   "name": "python",
   "nbconvert_exporter": "python",
   "pygments_lexer": "ipython3",
   "version": "3.11.4"
  }
 },
 "nbformat": 4,
 "nbformat_minor": 5
}
